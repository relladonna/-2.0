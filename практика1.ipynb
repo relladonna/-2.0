{
  "nbformat": 4,
  "nbformat_minor": 0,
  "metadata": {
    "colab": {
      "provenance": [],
      "authorship_tag": "ABX9TyMh2qYj9W201NGFaGNGks9w",
      "include_colab_link": true
    },
    "kernelspec": {
      "name": "python3",
      "display_name": "Python 3"
    },
    "language_info": {
      "name": "python"
    }
  },
  "cells": [
    {
      "cell_type": "markdown",
      "metadata": {
        "id": "view-in-github",
        "colab_type": "text"
      },
      "source": [
        "<a href=\"https://colab.research.google.com/github/relladonna/-2.0/blob/main/%D0%BF%D1%80%D0%B0%D0%BA%D1%82%D0%B8%D0%BA%D0%B01.ipynb\" target=\"_parent\"><img src=\"https://colab.research.google.com/assets/colab-badge.svg\" alt=\"Open In Colab\"/></a>"
      ]
    },
    {
      "cell_type": "code",
      "execution_count": null,
      "metadata": {
        "id": "ETkNVnaN8JPX"
      },
      "outputs": [],
      "source": [
        "Мосина Вероника Григорьевна"
      ]
    },
    {
      "cell_type": "code",
      "source": [
        "print('Привет, мир!')"
      ],
      "metadata": {
        "colab": {
          "base_uri": "https://localhost:8080/"
        },
        "id": "yGbhCG3Z8dM3",
        "outputId": "83215c03-2188-40ab-d05f-2a15a05d06e5"
      },
      "execution_count": null,
      "outputs": [
        {
          "output_type": "stream",
          "name": "stdout",
          "text": [
            "Привет, мир!\n"
          ]
        }
      ]
    },
    {
      "cell_type": "code",
      "source": [
        "print('Назовите ваше имя')\n",
        "name=input()\n",
        "print('Привет,', a)"
      ],
      "metadata": {
        "colab": {
          "base_uri": "https://localhost:8080/"
        },
        "id": "3BfJIDgX8s5f",
        "outputId": "651c471c-534a-469b-fbb8-4a1c2bfbf257"
      },
      "execution_count": null,
      "outputs": [
        {
          "output_type": "stream",
          "name": "stdout",
          "text": [
            "Назовите ваше имя\n",
            "Вероника\n",
            "Привет, Вероника\n"
          ]
        }
      ]
    },
    {
      "cell_type": "code",
      "source": [
        "print('Введите число:')\n",
        "a=int(input())\n",
        "if a%2==0:\n",
        "  print('Ваше число четное!')\n",
        "else:\n",
        "  print('Ваше число нечетное!')"
      ],
      "metadata": {
        "colab": {
          "base_uri": "https://localhost:8080/"
        },
        "id": "wG0vTzEg9QEv",
        "outputId": "868b6277-08cf-446e-ea1a-b9ab51a3e7e0"
      },
      "execution_count": null,
      "outputs": [
        {
          "output_type": "stream",
          "name": "stdout",
          "text": [
            "Введите число:\n",
            "5\n",
            "Ваше число нечетное!\n"
          ]
        }
      ]
    },
    {
      "cell_type": "code",
      "source": [
        "print('Введите длину прямоугольника:')\n",
        "lengh=int(input())\n",
        "print('Введите ширину прямоугольника:')\n",
        "width=int(input())\n",
        "print('Площадь прямоугольника:', lengh*width)"
      ],
      "metadata": {
        "colab": {
          "base_uri": "https://localhost:8080/"
        },
        "id": "NfNkvHpd9sqQ",
        "outputId": "20f22924-c435-41b1-c7bc-1db16c431c65"
      },
      "execution_count": null,
      "outputs": [
        {
          "output_type": "stream",
          "name": "stdout",
          "text": [
            "Введите длину прямоугольника:\n",
            "4\n",
            "Введите ширину прямоугольника:\n",
            "6\n",
            "Площадь прямоугольника: 24\n"
          ]
        }
      ]
    },
    {
      "cell_type": "code",
      "source": [
        "print('Введите числа через пробел.')\n",
        "numbers=input()\n",
        "n=numbers.split()\n",
        "s=0\n",
        "for i in range(len(n)):\n",
        "  s+=int(n[i])\n",
        "print(s/len(n))"
      ],
      "metadata": {
        "colab": {
          "base_uri": "https://localhost:8080/"
        },
        "id": "ZZtDJ_Zd-nW-",
        "outputId": "0c022fbf-bcb2-4bcc-e3f6-e1519e3f38a4"
      },
      "execution_count": null,
      "outputs": [
        {
          "output_type": "stream",
          "name": "stdout",
          "text": [
            "Введите числа через пробел.\n",
            "1 2 3\n",
            "2.0\n"
          ]
        }
      ]
    },
    {
      "cell_type": "code",
      "source": [
        "print('Какой год?')\n",
        "year=int(input())\n",
        "if year%4==0:\n",
        "  print('Год високосный')\n",
        "else:\n",
        "  print('Год невисокосный')"
      ],
      "metadata": {
        "colab": {
          "base_uri": "https://localhost:8080/"
        },
        "id": "0je5AH9gB0N3",
        "outputId": "6fdc2e50-0c99-42b5-a13d-e27f6bbd9fdd"
      },
      "execution_count": null,
      "outputs": [
        {
          "output_type": "stream",
          "name": "stdout",
          "text": [
            "Какой год?\n",
            "2200\n",
            "Год високосный\n"
          ]
        }
      ]
    },
    {
      "cell_type": "code",
      "source": [
        "print('Какая операция? (+, -, *, /)')\n",
        "a=input()\n",
        "print('Какое первое число?')\n",
        "n1=int(input())\n",
        "print('Какое второе число?')\n",
        "n2=int(input())\n",
        "if a=='+':\n",
        "  print('Результат:', n1+n2)\n",
        "elif a=='-':\n",
        "  print('Результат:', n1-n2)\n",
        "elif a=='*':\n",
        "  print('Результат:', n1*n2)\n",
        "elif a=='/':\n",
        "  print('Результат:', n1/n2)"
      ],
      "metadata": {
        "colab": {
          "base_uri": "https://localhost:8080/"
        },
        "id": "kq8twoUmDbOH",
        "outputId": "83f2cc9a-7e34-44fa-e93b-1d02ba5af596"
      },
      "execution_count": null,
      "outputs": [
        {
          "output_type": "stream",
          "name": "stdout",
          "text": [
            "Какая операция? (+, -, *, /)\n",
            "+\n",
            "Какое первое число?\n",
            "7\n",
            "Какое второе число?\n",
            "8\n",
            "Результат: 15\n"
          ]
        }
      ]
    },
    {
      "cell_type": "code",
      "source": [
        "print('Введите начальные координаты цифрами через пробел. Сначала идёт координата х, потом у.')\n",
        "nk=input()\n",
        "nk=nk.split()\n",
        "if (int(nk[0])>8 or int(nk[0])<1) or (int(nk[1])>8 or int(nk[1])<1):\n",
        "  print('Неверно заданные координаты.')\n",
        "print('Введите конечные координаты таким же образом')\n",
        "kk=input()\n",
        "kk=kk.split()\n",
        "if (int(kk[0])>8 or int(kk[0])<1) or (int(kk[1])>8 or int(kk[1])<1):\n",
        "  print('Неверно заданные координаты.')\n",
        "print('Какая фигура?')\n",
        "f=input()\n",
        "if f=='пешка':\n",
        "  if kk[0]==nk[0] and kk[1]<nk[1]+2:\n",
        "    print('Может сходить.')\n",
        "  else:\n",
        "    print('Не может сходить.')\n",
        "elif f=='ладья':\n",
        "  if kk[0]==nk[0] or kk[1]==nk[1]:\n",
        "    print('Может сходить.')\n",
        "  else:\n",
        "    print('Не может сходить.')\n",
        "elif f=='слон':\n",
        "  if abs(kk[0]-nk[0])==abs(kk[1]-nk[1]):\n",
        "    print('Может сходить.')\n",
        "  else:\n",
        "    print('Не может сходить.')\n",
        "elif f=='конь':\n",
        "  if abs(kk[0]-nk[0])==abs(kk[1]-nk[1])+1 or abs(kk[0]-nk[0])+1==abs(kk[1]-nk[1]):\n",
        "    print('Может сходить.')\n",
        "  else:\n",
        "    print('Не может сходить.')\n",
        "elif f=='король':\n",
        "  if abs(kk[0]-nk[0])<=1 and abs(kk[1]-nk[1])<=1:\n",
        "    print('Может сходить.')\n",
        "  else:\n",
        "    print('Не может сходить.')\n",
        "elif f=='ферзь':\n",
        "  if (kk[0]==nk[0] or kk[1]==nk[1]) or (abs(kk[0]-nk[0])==abs(kk[1]-nk[1])):\n",
        "    print('Может сходить.')\n",
        "  else:\n",
        "    print('Не может сходить.')"
      ],
      "metadata": {
        "id": "_porzkLQGOqv"
      },
      "execution_count": null,
      "outputs": []
    }
  ]
}