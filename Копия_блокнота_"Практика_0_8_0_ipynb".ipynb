{
  "cells": [
    {
      "cell_type": "markdown",
      "metadata": {
        "id": "view-in-github",
        "colab_type": "text"
      },
      "source": [
        "<a href=\"https://colab.research.google.com/github/relladonna/-2.0/blob/main/%D0%9A%D0%BE%D0%BF%D0%B8%D1%8F_%D0%B1%D0%BB%D0%BE%D0%BA%D0%BD%D0%BE%D1%82%D0%B0_%22%D0%9F%D1%80%D0%B0%D0%BA%D1%82%D0%B8%D0%BA%D0%B0_0_8_0_ipynb%22.ipynb\" target=\"_parent\"><img src=\"https://colab.research.google.com/assets/colab-badge.svg\" alt=\"Open In Colab\"/></a>"
      ]
    },
    {
      "cell_type": "markdown",
      "metadata": {
        "id": "kTkCXanNtCCN"
      },
      "source": [
        "Мосина Вероника Григорьевна"
      ]
    },
    {
      "cell_type": "markdown",
      "metadata": {
        "id": "ra45s33wUt-C"
      },
      "source": [
        "# Задание 1"
      ]
    },
    {
      "cell_type": "markdown",
      "metadata": {
        "id": "G56D5mNCUwp5"
      },
      "source": [
        "Задача: Создать чат бота для получения информации об исследованиях космоса\n",
        "\n",
        "Описание: Создайте комплексное приложение командной строки, которое будет использоваться в качестве панели управления исследованиями космоса. Данное приложение будет обращаться к https://api.nasa.gov/ для предоставления пользователям набора информации о космосе, включая:\n",
        "\n",
        "- Астрономическая картинка дня (APOD): Отображение APOD с пояснениями к нему.\n",
        "- Фотографии с марсохода: позволяет пользователям выбирать и фильтровать фотографии с марсохода по дате и типу камеры.\n",
        "- Объекты, сближающиеся с Землей (ОСЗ): Поиск и отображение информации об объекте, сближающихся с Землей, на определенную дату, включая их размеры и потенциальную опасность.\n",
        "- Данные о космической погоде: Отображают последние данные о космической погоде, включая солнечные вспышки и геомагнитные бури.\n",
        "Приложение должно позволять пользователям ориентироваться в этих функциях, корректно обрабатывать ошибки и обеспечивать удобство работы.\n",
        "\n",
        "Требования:\n",
        "- Пользовательский ввод: Приложение должно предложить пользователю ввести данные, чтобы выбрать, какую функцию он хочет изучить.\n",
        "- Проверка данных: Убедитесь, что пользовательские данные (например, даты) проверены.\n",
        "- Обработка ошибок: Корректно обрабатывайте ошибки API и неверные ответы.\n",
        "- Представление данных: Представляйте данные в четкой и организованной форме.\n",
        "- Опция выхода: позволяет пользователям выходить из приложения в любое время."
      ]
    },
    {
      "cell_type": "code",
      "execution_count": null,
      "metadata": {
        "colab": {
          "background_save": true,
          "base_uri": "https://localhost:8080/"
        },
        "id": "wGeJM9n4UqUD",
        "outputId": "ddc38702-7aff-47ad-fdf1-f48691c53a23"
      },
      "outputs": [
        {
          "name": "stdout",
          "output_type": "stream",
          "text": [
            "Выберите функцию:\n",
            "         1. Астрономическая картинка дня (APOD)\n",
            "         2. Фотографии марсохода по дате и типу камеры\n",
            "         3. Объекты, сближающиеся с Землей (ОСЗ)\n",
            "         4. Данные о космической погоде\n",
            "         5. Выйти\n",
            "Фотографии не найдены для этой даты.\n",
            "Выберите функцию:\n",
            "         1. Астрономическая картинка дня (APOD)\n",
            "         2. Фотографии марсохода по дате и типу камеры\n",
            "         3. Объекты, сближающиеся с Землей (ОСЗ)\n",
            "         4. Данные о космической погоде\n",
            "         5. Выйти\n",
            "Заголовок: LDN 1471: A Windblown Star Cavity\n",
            "Описание: What is the cause of this unusual parabolic structure?  This illuminated cavity, known as LDN 1471, was created by a newly forming star, seen as the bright source at the peak of the parabola.  This protostar is experiencing a stellar outflow which is then interacting with the surrounding material in the Perseus Molecular Cloud, causing it to brighten.  We see only one side of the cavity -- the other side is hidden by dark dust.  The parabolic shape is caused by the widening of the stellar-wind blown cavity over time. Two additional structures can also be seen either side of the protostar; these are known as Herbig-Haro objects, again caused by the interaction of the outflow with the surrounding material.  What causes the striations on the cavity walls, though, remains unknown.  The featured image was taken by NASA and ESA’s Hubble Space Telescope after an original detection by the Spitzer Space Telescope.   Explore Your Universe: Random APOD Generator\n",
            "URL изображения: https://apod.nasa.gov/apod/image/2411/LDN1471_HubbleSchmidt_960.jpg\n",
            "Выберите функцию:\n",
            "         1. Астрономическая картинка дня (APOD)\n",
            "         2. Фотографии марсохода по дате и типу камеры\n",
            "         3. Объекты, сближающиеся с Землей (ОСЗ)\n",
            "         4. Данные о космической погоде\n",
            "         5. Выйти\n",
            "Название:  524391 (2002 AD2)\n",
            "Размер:  450.8582061718  м\n",
            "Потенциальная угроза: {'NO'}\n",
            "Название:  (2001 CP36)\n",
            "Размер:  97.732718421  м\n",
            "Потенциальная угроза: {'NO'}\n",
            "Название:  (2006 YC13)\n",
            "Размер:  487.5733713755  м\n",
            "Потенциальная угроза: {'NO'}\n",
            "Название:  (2007 BB50)\n",
            "Размер:  1185.8779085771  м\n",
            "Потенциальная угроза: {'NO'}\n",
            "Название:  (2016 AF193)\n",
            "Размер:  247.7650126055  м\n",
            "Потенциальная угроза: {'NO'}\n",
            "Название:  (2017 FY101)\n",
            "Размер:  21.5794304844  м\n",
            "Потенциальная угроза: {'NO'}\n",
            "Название:  (2018 CJ2)\n",
            "Размер:  59.4346868419  м\n",
            "Потенциальная угроза: {'NO'}\n",
            "Название:  (2019 BA1)\n",
            "Размер:  216.7903660989  м\n",
            "Потенциальная угроза: {'NO'}\n",
            "Название:  585734 (2019 BA1)\n",
            "Размер:  215.7943048444  м\n",
            "Потенциальная угроза: {'NO'}\n",
            "Название:  (2022 BA1)\n",
            "Размер:  181.1506842357  м\n",
            "Потенциальная угроза: {'NO'}\n",
            "Название:  (2022 BX6)\n",
            "Размер:  39.9981568182  м\n",
            "Потенциальная угроза: {'NO'}\n",
            "Название:  (2022 WO6)\n",
            "Размер:  9.3334021504  м\n",
            "Потенциальная угроза: {'NO'}\n",
            "Название:  (2022 YF4)\n",
            "Размер:  111.6966064835  м\n",
            "Потенциальная угроза: {'NO'}\n",
            "Выберите функцию:\n",
            "         1. Астрономическая картинка дня (APOD)\n",
            "         2. Фотографии марсохода по дате и типу камеры\n",
            "         3. Объекты, сближающиеся с Землей (ОСЗ)\n",
            "         4. Данные о космической погоде\n",
            "         5. Выйти\n",
            "Ошибка при получении данных о космической погоде.\n",
            "Выберите функцию:\n",
            "         1. Астрономическая картинка дня (APOD)\n",
            "         2. Фотографии марсохода по дате и типу камеры\n",
            "         3. Объекты, сближающиеся с Землей (ОСЗ)\n",
            "         4. Данные о космической погоде\n",
            "         5. Выйти\n"
          ]
        },
        {
          "ename": "KeyboardInterrupt",
          "evalue": "Interrupted by user",
          "output_type": "error",
          "traceback": [
            "\u001b[0;31m---------------------------------------------------------------------------\u001b[0m",
            "\u001b[0;31mKeyboardInterrupt\u001b[0m                         Traceback (most recent call last)",
            "\u001b[0;32m<ipython-input-7-0ab9262f8019>\u001b[0m in \u001b[0;36m<cell line: 83>\u001b[0;34m()\u001b[0m\n\u001b[1;32m     82\u001b[0m \u001b[0;34m\u001b[0m\u001b[0m\n\u001b[1;32m     83\u001b[0m \u001b[0;32mif\u001b[0m \u001b[0m__name__\u001b[0m \u001b[0;34m==\u001b[0m \u001b[0;34m\"__main__\"\u001b[0m\u001b[0;34m:\u001b[0m\u001b[0;34m\u001b[0m\u001b[0;34m\u001b[0m\u001b[0m\n\u001b[0;32m---> 84\u001b[0;31m     \u001b[0mmain\u001b[0m\u001b[0;34m(\u001b[0m\u001b[0;34m)\u001b[0m\u001b[0;34m\u001b[0m\u001b[0;34m\u001b[0m\u001b[0m\n\u001b[0m",
            "\u001b[0;32m<ipython-input-7-0ab9262f8019>\u001b[0m in \u001b[0;36mmain\u001b[0;34m()\u001b[0m\n\u001b[1;32m     64\u001b[0m         5. Выйти')\n\u001b[1;32m     65\u001b[0m \u001b[0;34m\u001b[0m\u001b[0m\n\u001b[0;32m---> 66\u001b[0;31m         \u001b[0mchoice\u001b[0m \u001b[0;34m=\u001b[0m \u001b[0minput\u001b[0m\u001b[0;34m(\u001b[0m\u001b[0;34m'Ваш выбор:'\u001b[0m\u001b[0;34m)\u001b[0m\u001b[0;34m\u001b[0m\u001b[0;34m\u001b[0m\u001b[0m\n\u001b[0m\u001b[1;32m     67\u001b[0m \u001b[0;34m\u001b[0m\u001b[0m\n\u001b[1;32m     68\u001b[0m         \u001b[0;32mif\u001b[0m \u001b[0mchoice\u001b[0m \u001b[0;34m==\u001b[0m \u001b[0;34m'1'\u001b[0m\u001b[0;34m:\u001b[0m\u001b[0;34m\u001b[0m\u001b[0;34m\u001b[0m\u001b[0m\n",
            "\u001b[0;32m/usr/local/lib/python3.10/dist-packages/ipykernel/kernelbase.py\u001b[0m in \u001b[0;36mraw_input\u001b[0;34m(self, prompt)\u001b[0m\n\u001b[1;32m    849\u001b[0m                 \u001b[0;34m\"raw_input was called, but this frontend does not support input requests.\"\u001b[0m\u001b[0;34m\u001b[0m\u001b[0;34m\u001b[0m\u001b[0m\n\u001b[1;32m    850\u001b[0m             )\n\u001b[0;32m--> 851\u001b[0;31m         return self._input_request(str(prompt),\n\u001b[0m\u001b[1;32m    852\u001b[0m             \u001b[0mself\u001b[0m\u001b[0;34m.\u001b[0m\u001b[0m_parent_ident\u001b[0m\u001b[0;34m,\u001b[0m\u001b[0;34m\u001b[0m\u001b[0;34m\u001b[0m\u001b[0m\n\u001b[1;32m    853\u001b[0m             \u001b[0mself\u001b[0m\u001b[0;34m.\u001b[0m\u001b[0m_parent_header\u001b[0m\u001b[0;34m,\u001b[0m\u001b[0;34m\u001b[0m\u001b[0;34m\u001b[0m\u001b[0m\n",
            "\u001b[0;32m/usr/local/lib/python3.10/dist-packages/ipykernel/kernelbase.py\u001b[0m in \u001b[0;36m_input_request\u001b[0;34m(self, prompt, ident, parent, password)\u001b[0m\n\u001b[1;32m    893\u001b[0m             \u001b[0;32mexcept\u001b[0m \u001b[0mKeyboardInterrupt\u001b[0m\u001b[0;34m:\u001b[0m\u001b[0;34m\u001b[0m\u001b[0;34m\u001b[0m\u001b[0m\n\u001b[1;32m    894\u001b[0m                 \u001b[0;31m# re-raise KeyboardInterrupt, to truncate traceback\u001b[0m\u001b[0;34m\u001b[0m\u001b[0;34m\u001b[0m\u001b[0m\n\u001b[0;32m--> 895\u001b[0;31m                 \u001b[0;32mraise\u001b[0m \u001b[0mKeyboardInterrupt\u001b[0m\u001b[0;34m(\u001b[0m\u001b[0;34m\"Interrupted by user\"\u001b[0m\u001b[0;34m)\u001b[0m \u001b[0;32mfrom\u001b[0m \u001b[0;32mNone\u001b[0m\u001b[0;34m\u001b[0m\u001b[0;34m\u001b[0m\u001b[0m\n\u001b[0m\u001b[1;32m    896\u001b[0m             \u001b[0;32mexcept\u001b[0m \u001b[0mException\u001b[0m \u001b[0;32mas\u001b[0m \u001b[0me\u001b[0m\u001b[0;34m:\u001b[0m\u001b[0;34m\u001b[0m\u001b[0;34m\u001b[0m\u001b[0m\n\u001b[1;32m    897\u001b[0m                 \u001b[0mself\u001b[0m\u001b[0;34m.\u001b[0m\u001b[0mlog\u001b[0m\u001b[0;34m.\u001b[0m\u001b[0mwarning\u001b[0m\u001b[0;34m(\u001b[0m\u001b[0;34m\"Invalid Message:\"\u001b[0m\u001b[0;34m,\u001b[0m \u001b[0mexc_info\u001b[0m\u001b[0;34m=\u001b[0m\u001b[0;32mTrue\u001b[0m\u001b[0;34m)\u001b[0m\u001b[0;34m\u001b[0m\u001b[0;34m\u001b[0m\u001b[0m\n",
            "\u001b[0;31mKeyboardInterrupt\u001b[0m: Interrupted by user"
          ]
        }
      ],
      "source": [
        "\n",
        "import requests\n",
        "import json\n",
        "\n",
        "\n",
        "api_key = 'cr2nH6nXt3xLfm7qM6j3pcxJTp7xBDSVFHzbIgcU'\n",
        "\n",
        "\n",
        "def get_apod():\n",
        "    url = f'https://api.nasa.gov/planetary/apod?api_key={api_key}'\n",
        "    response = requests.get(url)\n",
        "    if response.status_code == 200:\n",
        "        data = response.json()\n",
        "        print('Заголовок:', data['title'])\n",
        "        print('Описание:', data['explanation'])\n",
        "        print('URL изображения:', data['url'])\n",
        "    else:\n",
        "        print('Ошибка при получении APOD.')\n",
        "\n",
        "def get_mars_photos():\n",
        "    date = input(\"Введите дату в формате YYYY-MM-DD: \")\n",
        "    url = f\"https://api.nasa.gov/mars-photos/api/v1/rovers/curiosity/photos?earth_date={date}&api_key={api_key}\"\n",
        "    response = requests.get(url)\n",
        "    if response.status_code == 200:\n",
        "        photos = response.json()['photos']\n",
        "        if photos:\n",
        "            for photo in photos[:5]:  # Вывод первых 5 фотографий для краткости\n",
        "                print(\"Камера:\", photo['camera']['full_name'])\n",
        "                print(\"URL:\", photo['img_src'])\n",
        "        else:\n",
        "            print(\"Фотографии не найдены для этой даты.\")\n",
        "    else:\n",
        "        print(\"Не удалось получить данные с марсохода.\")\n",
        "\n",
        "def get_neo(date):\n",
        "    url = f'https://api.nasa.gov/neo/rest/v1/feed?start_date={date}&end_date={date}&api_key={api_key}'\n",
        "    response = requests.get(url)\n",
        "    if response.status_code == 200:\n",
        "        data = response.json()\n",
        "        asteroids = data['near_earth_objects'][date]\n",
        "        for asteroid in asteroids:\n",
        "            print('Название: ', asteroid['name'])\n",
        "            print('Размер: ',  asteroid['estimated_diameter']['meters']['estimated_diameter_max'], ' м')\n",
        "            print('Потенциальная угроза:', {'YES' if asteroid['is_potentially_hazardous_asteroid'] else 'NO'})\n",
        "    else:\n",
        "        print('Ошибка при получении ОСЗ.')\n",
        "\n",
        "def get_space_weather():\n",
        "    url = f'https://api.nasa.gov/DONKI/GammaRayFlare?api_key={api_key}'\n",
        "    response = requests.get(url)\n",
        "    if response.status_code == 200:\n",
        "        data = response.json()\n",
        "        for event in data:\n",
        "            print('Дата: ', event['startTime'], 'Тип: ', event['type'], 'Интенсивность: ', event['intensity'])\n",
        "    else:\n",
        "        print('Ошибка при получении данных о космической погоде.')\n",
        "\n",
        "def main():\n",
        "    while True:\n",
        "        print('Выберите функцию:\\n \\\n",
        "        1. Астрономическая картинка дня (APOD)\\n \\\n",
        "        2. Фотографии марсохода по дате и типу камеры\\n \\\n",
        "        3. Объекты, сближающиеся с Землей (ОСЗ)\\n \\\n",
        "        4. Данные о космической погоде\\n \\\n",
        "        5. Выйти')\n",
        "\n",
        "        choice = input('Ваш выбор:')\n",
        "\n",
        "        if choice == '1':\n",
        "            get_apod()\n",
        "        elif choice == '2':\n",
        "            get_mars_photos()\n",
        "        elif choice == '3':\n",
        "            date = input('Введите дату (YYYY-MM-DD):')\n",
        "            get_neo(date)\n",
        "        elif choice == '4':\n",
        "            get_space_weather()\n",
        "        elif choice == '5':\n",
        "            print('Выход из приложения...')\n",
        "            break\n",
        "        else:\n",
        "            print('Неверный выбор, пожалуйста, попробуйте снова.')\n",
        "\n",
        "if __name__ == \"__main__\":\n",
        "    main()"
      ]
    },
    {
      "cell_type": "code",
      "execution_count": null,
      "metadata": {
        "colab": {
          "base_uri": "https://localhost:8080/",
          "height": 477
        },
        "id": "BWxqNWHoXIPy",
        "outputId": "f0895b81-121f-4927-bdb9-a4616b08fe4f"
      },
      "outputs": [
        {
          "name": "stdout",
          "output_type": "stream",
          "text": [
            "\n",
            "--- Панель управления исследованиями космоса ---\n",
            "1. Астрономическая картинка дня\n",
            "2. Фотографии с марсохода\n",
            "3. Объекты, сближающиеся с Землей\n",
            "4. Данные о космической погоде\n",
            "5. Выход\n"
          ]
        },
        {
          "ename": "KeyboardInterrupt",
          "evalue": "Interrupted by user",
          "output_type": "error",
          "traceback": [
            "\u001b[0;31m---------------------------------------------------------------------------\u001b[0m",
            "\u001b[0;31mKeyboardInterrupt\u001b[0m                         Traceback (most recent call last)",
            "\u001b[0;32m<ipython-input-3-8b5752d54a62>\u001b[0m in \u001b[0;36m<cell line: 93>\u001b[0;34m()\u001b[0m\n\u001b[1;32m     92\u001b[0m \u001b[0;34m\u001b[0m\u001b[0m\n\u001b[1;32m     93\u001b[0m \u001b[0;32mif\u001b[0m \u001b[0m__name__\u001b[0m \u001b[0;34m==\u001b[0m \u001b[0;34m\"__main__\"\u001b[0m\u001b[0;34m:\u001b[0m\u001b[0;34m\u001b[0m\u001b[0;34m\u001b[0m\u001b[0m\n\u001b[0;32m---> 94\u001b[0;31m     \u001b[0mmain\u001b[0m\u001b[0;34m(\u001b[0m\u001b[0;34m)\u001b[0m\u001b[0;34m\u001b[0m\u001b[0;34m\u001b[0m\u001b[0m\n\u001b[0m\u001b[1;32m     95\u001b[0m \u001b[0;34m\u001b[0m\u001b[0m\n\u001b[1;32m     96\u001b[0m \u001b[0;34m\u001b[0m\u001b[0m\n",
            "\u001b[0;32m<ipython-input-3-8b5752d54a62>\u001b[0m in \u001b[0;36mmain\u001b[0;34m()\u001b[0m\n\u001b[1;32m     75\u001b[0m         \u001b[0mprint\u001b[0m\u001b[0;34m(\u001b[0m\u001b[0;34m\"5. Выход\"\u001b[0m\u001b[0;34m)\u001b[0m\u001b[0;34m\u001b[0m\u001b[0;34m\u001b[0m\u001b[0m\n\u001b[1;32m     76\u001b[0m \u001b[0;34m\u001b[0m\u001b[0m\n\u001b[0;32m---> 77\u001b[0;31m         \u001b[0mchoice\u001b[0m \u001b[0;34m=\u001b[0m \u001b[0minput\u001b[0m\u001b[0;34m(\u001b[0m\u001b[0;34m\"Выберите опцию (1-5): \"\u001b[0m\u001b[0;34m)\u001b[0m\u001b[0;34m\u001b[0m\u001b[0;34m\u001b[0m\u001b[0m\n\u001b[0m\u001b[1;32m     78\u001b[0m \u001b[0;34m\u001b[0m\u001b[0m\n\u001b[1;32m     79\u001b[0m         \u001b[0;32mif\u001b[0m \u001b[0mchoice\u001b[0m \u001b[0;34m==\u001b[0m \u001b[0;34m\"1\"\u001b[0m\u001b[0;34m:\u001b[0m\u001b[0;34m\u001b[0m\u001b[0;34m\u001b[0m\u001b[0m\n",
            "\u001b[0;32m/usr/local/lib/python3.10/dist-packages/ipykernel/kernelbase.py\u001b[0m in \u001b[0;36mraw_input\u001b[0;34m(self, prompt)\u001b[0m\n\u001b[1;32m    849\u001b[0m                 \u001b[0;34m\"raw_input was called, but this frontend does not support input requests.\"\u001b[0m\u001b[0;34m\u001b[0m\u001b[0;34m\u001b[0m\u001b[0m\n\u001b[1;32m    850\u001b[0m             )\n\u001b[0;32m--> 851\u001b[0;31m         return self._input_request(str(prompt),\n\u001b[0m\u001b[1;32m    852\u001b[0m             \u001b[0mself\u001b[0m\u001b[0;34m.\u001b[0m\u001b[0m_parent_ident\u001b[0m\u001b[0;34m,\u001b[0m\u001b[0;34m\u001b[0m\u001b[0;34m\u001b[0m\u001b[0m\n\u001b[1;32m    853\u001b[0m             \u001b[0mself\u001b[0m\u001b[0;34m.\u001b[0m\u001b[0m_parent_header\u001b[0m\u001b[0;34m,\u001b[0m\u001b[0;34m\u001b[0m\u001b[0;34m\u001b[0m\u001b[0m\n",
            "\u001b[0;32m/usr/local/lib/python3.10/dist-packages/ipykernel/kernelbase.py\u001b[0m in \u001b[0;36m_input_request\u001b[0;34m(self, prompt, ident, parent, password)\u001b[0m\n\u001b[1;32m    893\u001b[0m             \u001b[0;32mexcept\u001b[0m \u001b[0mKeyboardInterrupt\u001b[0m\u001b[0;34m:\u001b[0m\u001b[0;34m\u001b[0m\u001b[0;34m\u001b[0m\u001b[0m\n\u001b[1;32m    894\u001b[0m                 \u001b[0;31m# re-raise KeyboardInterrupt, to truncate traceback\u001b[0m\u001b[0;34m\u001b[0m\u001b[0;34m\u001b[0m\u001b[0m\n\u001b[0;32m--> 895\u001b[0;31m                 \u001b[0;32mraise\u001b[0m \u001b[0mKeyboardInterrupt\u001b[0m\u001b[0;34m(\u001b[0m\u001b[0;34m\"Interrupted by user\"\u001b[0m\u001b[0;34m)\u001b[0m \u001b[0;32mfrom\u001b[0m \u001b[0;32mNone\u001b[0m\u001b[0;34m\u001b[0m\u001b[0;34m\u001b[0m\u001b[0m\n\u001b[0m\u001b[1;32m    896\u001b[0m             \u001b[0;32mexcept\u001b[0m \u001b[0mException\u001b[0m \u001b[0;32mas\u001b[0m \u001b[0me\u001b[0m\u001b[0;34m:\u001b[0m\u001b[0;34m\u001b[0m\u001b[0;34m\u001b[0m\u001b[0m\n\u001b[1;32m    897\u001b[0m                 \u001b[0mself\u001b[0m\u001b[0;34m.\u001b[0m\u001b[0mlog\u001b[0m\u001b[0;34m.\u001b[0m\u001b[0mwarning\u001b[0m\u001b[0;34m(\u001b[0m\u001b[0;34m\"Invalid Message:\"\u001b[0m\u001b[0;34m,\u001b[0m \u001b[0mexc_info\u001b[0m\u001b[0;34m=\u001b[0m\u001b[0;32mTrue\u001b[0m\u001b[0;34m)\u001b[0m\u001b[0;34m\u001b[0m\u001b[0;34m\u001b[0m\u001b[0m\n",
            "\u001b[0;31mKeyboardInterrupt\u001b[0m: Interrupted by user"
          ]
        }
      ],
      "source": [
        "import requests\n",
        "import datetime\n",
        "\n",
        "\n",
        "api_key = 'cr2nH6nXt3xLfm7qM6j3pcxJTp7xBDSVFHzbIgcU'\n",
        "\n",
        "\n",
        "def send_request(url):\n",
        "  response = requests.get(url)\n",
        "  if response.status_code == 200:\n",
        "      return response.json()\n",
        "  else:\n",
        "      print('Response code:', response.status_code)\n",
        "      return False\n",
        "\n",
        "\n",
        "def get_apod():\n",
        "    url = f\"https://api.nasa.gov/planetary/apod?api_key={api_key}\"\n",
        "    response = requests.get(url)\n",
        "    if response.status_code == 200:\n",
        "        data = response.json()\n",
        "        print(\"Астрономическая картинка дня:\")\n",
        "        print(\"Заголовок:\", data['title'])\n",
        "        print(\"Описание:\", data['explanation'])\n",
        "        print(\"URL:\", data['url'])\n",
        "    else:\n",
        "        print(\"Не удалось получить данные APOD.\")\n",
        "\n",
        "def get_mars_photos():\n",
        "    date = input(\"Введите дату в формате YYYY-MM-DD: \")\n",
        "    url = f\"https://api.nasa.gov/mars-photos/api/v1/rovers/curiosity/photos?earth_date={date}&api_key={api_key}\"\n",
        "    response = requests.get(url)\n",
        "    if response.status_code == 200:\n",
        "        photos = response.json()['photos']\n",
        "        if photos:\n",
        "            for photo in photos[:5]:  # Вывод первых 5 фотографий для краткости\n",
        "                print(\"Камера:\", photo['camera']['full_name'])\n",
        "                print(\"URL:\", photo['img_src'])\n",
        "        else:\n",
        "            print(\"Фотографии не найдены для этой даты.\")\n",
        "    else:\n",
        "        print(\"Не удалось получить данные с марсохода.\")\n",
        "\n",
        "def get_neos():\n",
        "    date = input(\"Введите дату в формате YYYY-MM-DD: \")\n",
        "    url = f\"https://api.nasa.gov/neo/rest/v1/feed?start_date={date}&end_date={date}&api_key={api_key}\"\n",
        "    response = requests.get(url)\n",
        "    if response.status_code == 200:\n",
        "        neos = response.json()['near_earth_objects'][date]\n",
        "        for neo in neos[:5]:  # Вывод первых 5 объектов\n",
        "            print(\"Название:\", neo['name'])\n",
        "            print(\"Диаметр (метры):\", neo['estimated_diameter']['meters']['estimated_diameter_max'])\n",
        "            print(\"Опасен:\", \"Да\" if neo['is_potentially_hazardous_asteroid'] else \"Нет\")\n",
        "    else:\n",
        "        print(\"Не удалось получить данные об ОСЗ.\")\n",
        "\n",
        "def get_space_weather():\n",
        "    url = f\"https://api.nasa.gov/DONKI/notifications?type=all&api_key={api_key}\"\n",
        "    response = requests.get(url)\n",
        "    if response.status_code == 200:\n",
        "        events = response.json()[:5]  # Вывод первых 5 событий\n",
        "        for event in events:\n",
        "            print(\"Событие:\", event['messageType'])\n",
        "            print(\"Описание:\", event['messageBody'])\n",
        "    else:\n",
        "        print(\"Не удалось получить данные о космической погоде.\")\n",
        "\n",
        "def main():\n",
        "    while True:\n",
        "        print(\"\\n--- Панель управления исследованиями космоса ---\")\n",
        "        print(\"1. Астрономическая картинка дня\")\n",
        "        print(\"2. Фотографии с марсохода\")\n",
        "        print(\"3. Объекты, сближающиеся с Землей\")\n",
        "        print(\"4. Данные о космической погоде\")\n",
        "        print(\"5. Выход\")\n",
        "\n",
        "        choice = input(\"Выберите опцию (1-5): \")\n",
        "\n",
        "        if choice == \"1\":\n",
        "            get_apod()\n",
        "        elif choice == \"2\":\n",
        "            get_mars_photos()\n",
        "        elif choice == \"3\":\n",
        "            get_neos()\n",
        "        elif choice == \"4\":\n",
        "            get_space_weather()\n",
        "        elif choice == \"5\":\n",
        "            print(\"Выход из приложения. До свидания!\")\n",
        "            break\n",
        "        else:\n",
        "            print(\"Неверный выбор. Попробуйте снова.\")\n",
        "\n",
        "if __name__ == \"__main__\":\n",
        "    main()\n",
        "\n",
        "\n"
      ]
    },
    {
      "cell_type": "markdown",
      "metadata": {
        "id": "ia9UtA0cU1Iy"
      },
      "source": [
        "# Задание 2"
      ]
    },
    {
      "cell_type": "markdown",
      "metadata": {
        "id": "Ofu_GmqrU1Iy"
      },
      "source": [
        "Описание задачи\n",
        "\n",
        "Цель этой задачи - создать скрипт на Python, который взаимодействует с API Чикагского института искусств (https://api.artic.edu/docs/) для извлечения и отображения произведений искусства. Скрипт должен позволять пользователям просматривать работы по страницам, фильтровать их по имени художника и просматривать подробную информацию о выбранных произведениях искусства. Ниже приведены требования и функциональные возможности, которые необходимо реализовать:\n",
        "\n",
        "Требования:\n",
        "Извлекать произведения искусства:\n",
        "\n",
        "- Создайте функцию, которая извлекает список произведений искусства из API Чикагского института искусств.\n",
        "Функция должна принимать параметр page для разбивки на страницы и возвращать список произведений искусства вместе с информацией о разбивке на страницы.\n",
        "Фильтровать произведения искусства:\n",
        "\n",
        "- Реализуйте функцию, которая фильтрует список произведений искусства на основе имени указанного художника. Функция должна возвращать список работ, которые соответствуют имени художника (без учета регистра).\n",
        "Отображать подробную информацию об оформлении:\n",
        "\n",
        "- Напишите функцию, которая отображает названия работ для пользователя и позволяет ему выбрать одну из них, введя соответствующий номер.\n",
        "После выбора функция должна отображать подробную информацию о выбранном произведении, включая название, исполнителя, дату и носитель.\n",
        "Разбивка на страницы и взаимодействие с пользователем:\n",
        "\n",
        "- Создайте основную функцию, которая управляет выборкой произведений и взаимодействием с пользователем.\n",
        "\n",
        "Разрешите пользователям перемещаться по страницам с произведениями искусства, выполнять фильтрацию по исполнителю или выходить из программы.\n",
        "\n",
        "Если страниц с произведениями искусства несколько, укажите варианты перехода к следующей странице, предыдущей странице, фильтрации по исполнителю или выхода из программы."
      ]
    },
    {
      "cell_type": "code",
      "execution_count": null,
      "metadata": {
        "id": "jjUH1GznU1Iy"
      },
      "outputs": [],
      "source": []
    },
    {
      "cell_type": "markdown",
      "metadata": {
        "id": "eecUb-akU1ji"
      },
      "source": [
        "# Задание 3"
      ]
    },
    {
      "cell_type": "markdown",
      "metadata": {
        "id": "jsK7IKptU1ji"
      },
      "source": [
        "Задача: Создать программу по управлению портфелем криптовалют\n",
        "\n",
        "Цель: Создать скрипт на Python, который извлекает цены на криптовалюты в режиме реального времени, позволяет пользователям управлять портфелем криптовалют, вычисляет общую стоимость портфеля, отслеживает изменения цен и предоставляет исторические данные о ценах для анализа.\n",
        "\n",
        "Требования:\n",
        "Получение текущих цен на криптовалюты:\n",
        "\n",
        "Используйте https://docs.coingecko.com/ для получения актуальных цен на список криптовалют.\n",
        "\n",
        "Управление портфелем:\n",
        "\n",
        "- Позволяет пользователю создавать портфель криптовалют и управлять им, указывая количество каждой криптовалюты, которой он владеет.\n",
        "- Расчитывает общую стоимость портфеля в указанной фиатной валюте (например, долларах США).\n",
        "\n",
        "Отслеживание изменения цен:\n",
        "\n",
        "- Отображение процентного изменения цены для каждой криптовалюты в портфеле за последние 24 часа.\n",
        "- Выделите все криптовалюты, стоимость которых значительно увеличилась или снизилась.\n",
        "\n",
        "Поиск исторических данных о ценах:\n",
        "\n",
        "- Получение исторических данных о ценах на указанную криптовалюту за последнюю неделю.\n",
        "- Предоставьте пользователю возможность визуализировать эти данные в простом текстовом формате (например, цены за день).\n",
        "\n",
        "Взаимодействие с пользователем:\n",
        "\n",
        "- Реализуйте интерфейс командной строки для ввода данных пользователем.\n",
        "- Предоставьте опции для получения текущих цен, управления портфелем, просмотра изменений цен или анализа исторических данных.\n"
      ]
    },
    {
      "cell_type": "code",
      "execution_count": null,
      "metadata": {
        "id": "_0DToTqlvywa"
      },
      "outputs": [],
      "source": []
    },
    {
      "cell_type": "markdown",
      "metadata": {
        "id": "QGrsZrv5U1s8"
      },
      "source": [
        "# Дополнительно: Задание 4"
      ]
    },
    {
      "cell_type": "markdown",
      "metadata": {
        "id": "qs_XITmYU1s8"
      },
      "source": [
        "Задание 4: Проектное\n",
        "\n",
        "Вам необходимо самостоятельно найти откртое API предоставляющее информацию в открытом доступе и реализовать собственный проект!\n",
        "\n",
        "\n",
        "Критерии приемки результата:\n",
        "\n",
        "- Проект включает в себя не менее 5 возможостей для пользователя\n",
        "- Проект позволяет использовать все возможности проекта пользователю при помощи взаимодействия через коммандную строку\n",
        "- Проект работает с открытым API (это значит что при проверке вашей работы преподавателем, преподавателю необходимо просто запустить ячейку с кодом вашего проекта и она будет работать без дополнительных манипуляции)\n",
        "- Проект должен обязательно включать в себя ряд используемых конструкции:\n",
        "    - Функции\n",
        "    - Условные конструкции\n",
        "    - Ввод/вывод\n",
        "    - Словари/Списки\n",
        "- Допускается использование библиотек:\n",
        "    - requests\n",
        "    - datetime\n",
        "    - random"
      ]
    },
    {
      "cell_type": "markdown",
      "metadata": {
        "id": "VKXhaJi4FL0B"
      },
      "source": [
        "**Здесь добавьте описание вашего проекта**"
      ]
    },
    {
      "cell_type": "code",
      "execution_count": null,
      "metadata": {
        "id": "wiA55k1KU1s8"
      },
      "outputs": [],
      "source": [
        "#  А здесь код"
      ]
    }
  ],
  "metadata": {
    "colab": {
      "collapsed_sections": [
        "ra45s33wUt-C",
        "ia9UtA0cU1Iy",
        "eecUb-akU1ji",
        "QGrsZrv5U1s8"
      ],
      "provenance": [],
      "include_colab_link": true
    },
    "kernelspec": {
      "display_name": "Python 3",
      "name": "python3"
    },
    "language_info": {
      "name": "python"
    }
  },
  "nbformat": 4,
  "nbformat_minor": 0
}