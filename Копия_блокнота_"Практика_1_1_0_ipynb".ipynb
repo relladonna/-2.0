{
  "nbformat": 4,
  "nbformat_minor": 0,
  "metadata": {
    "colab": {
      "provenance": [],
      "include_colab_link": true
    },
    "kernelspec": {
      "name": "python3",
      "display_name": "Python 3"
    },
    "language_info": {
      "name": "python"
    }
  },
  "cells": [
    {
      "cell_type": "markdown",
      "metadata": {
        "id": "view-in-github",
        "colab_type": "text"
      },
      "source": [
        "<a href=\"https://colab.research.google.com/github/relladonna/-2.0/blob/main/%D0%9A%D0%BE%D0%BF%D0%B8%D1%8F_%D0%B1%D0%BB%D0%BE%D0%BA%D0%BD%D0%BE%D1%82%D0%B0_%22%D0%9F%D1%80%D0%B0%D0%BA%D1%82%D0%B8%D0%BA%D0%B0_1_1_0_ipynb%22.ipynb\" target=\"_parent\"><img src=\"https://colab.research.google.com/assets/colab-badge.svg\" alt=\"Open In Colab\"/></a>"
      ]
    },
    {
      "cell_type": "markdown",
      "source": [
        "**ФИО:**"
      ],
      "metadata": {
        "id": "GEsFKJm-ABFp"
      }
    },
    {
      "cell_type": "code",
      "execution_count": null,
      "metadata": {
        "id": "wZMLYG_G_-19"
      },
      "outputs": [],
      "source": []
    },
    {
      "cell_type": "markdown",
      "source": [
        "# Задание 1"
      ],
      "metadata": {
        "id": "H4DrYnJjADuZ"
      }
    },
    {
      "cell_type": "markdown",
      "source": [
        "**Описание:** Создайте иерархию классов для разных типов сотрудников в компании. Реализуйте родительский класс Employee и дочерние классы Manager и Developer. Каждый класс должен иметь метод для расчета зарплаты на основе различных критериев класса.\n",
        "\n",
        "\n",
        "Отрабатываемый принцип: Наследование\n",
        "\n"
      ],
      "metadata": {
        "id": "C17FWep-AF4a"
      }
    },
    {
      "cell_type": "code",
      "source": [
        "class Employee:\n",
        "  def __init__(self, tarif_rate, hours_worked, premium):\n",
        "    self.tarif_rate = tarif_rate\n",
        "    self.hours_worked = hours_worked\n",
        "    self.premium = premium\n",
        "\n",
        "  def monthly_salary(self):\n",
        "    ms = self.tarif_rate*self.hours_worked\n",
        "    return ms\n",
        "\n",
        "\n",
        "class Manager(Employee):\n",
        "  def __init__(self, tarif_rate, hours_worked, premium, manager_rate):\n",
        "    super().__init__(tarif_rate, hours_worked, premium)\n",
        "    self.manager_rate = manager_rate\n",
        "\n",
        "  def manager_salary(self):\n",
        "    manag_s = Employee.monthly_salary(self) + self.manager_rate * self.premium\n",
        "    return manag_s\n",
        "\n",
        "\n",
        "class Developer(Employee):\n",
        "  def __init__(self, tarif_rate, hours_worked, premium, developer_rate, additional_coefficient):\n",
        "    super().__init__(tarif_rate, hours_worked, premium)\n",
        "    self.developer_rate = developer_rate\n",
        "    self.additional_coefficient = additional_coefficient\n",
        "\n",
        "  def developer_salary(self):\n",
        "    devel_s = Employee.monthly_salary(self) + self.developer_rate * self.premium + self.additional_coefficient\n",
        "    return devel_s\n",
        "\n",
        "\n",
        "developer = Developer(1000, 10, 15000, 0.75, 1.25)\n",
        "manager = Manager(2000, 15, 9000, 0.5)\n",
        "\n",
        "print(manager.manager_salary())"
      ],
      "metadata": {
        "id": "aexGXzqCAFH7",
        "colab": {
          "base_uri": "https://localhost:8080/"
        },
        "outputId": "c3c3c574-8512-43e3-e5db-72555705b15e"
      },
      "execution_count": null,
      "outputs": [
        {
          "output_type": "stream",
          "name": "stdout",
          "text": [
            "34500.0\n"
          ]
        }
      ]
    },
    {
      "cell_type": "markdown",
      "source": [
        "# Задание 2"
      ],
      "metadata": {
        "id": "ERAi0TG5BI6v"
      }
    },
    {
      "cell_type": "markdown",
      "source": [
        "**Описание:** Создайте иерархию классов для различных типов транспортных средств (Необходим один родительский класс и 3 дочерних). Реализуйте метод, который позволяет каждому транспортному средству возвращать собственное описание (Метод в каждом классе должен иметь одинаковое название). Продемонстрируйте вызов данного метода для каждого транспортного средства.\n",
        "\n",
        "\n",
        "Отрабатываемый принцип: Полиморфизм"
      ],
      "metadata": {
        "id": "sJ3k7ZcgBK87"
      }
    },
    {
      "cell_type": "code",
      "source": [
        "class Vehicle:\n",
        "    def __init__(self, name):\n",
        "        self.name = name\n",
        "\n",
        "    def describe(self):\n",
        "        return f'Я транспортное средство {self.name}.'\n",
        "\n",
        "class Car(Vehicle):\n",
        "    def __init__(self, name, wheels):\n",
        "        super().__init__(name)\n",
        "        self.wheels = wheels\n",
        "\n",
        "    def describe(self):\n",
        "        return super().describe() + f' У меня {self.wheels} колёс.'\n",
        "\n",
        "class Bicycle(Vehicle):\n",
        "    def __init__(self, name, pedals):\n",
        "        super().__init__(name)\n",
        "        self.pedals = pedals\n",
        "\n",
        "    def describe(self):\n",
        "        return super().describe() + f' У меня {self.pedals} педалей.'\n",
        "\n",
        "class Motorcycle(Vehicle):\n",
        "    def __init__(self, name, handlebars):\n",
        "        super().__init__(name)\n",
        "        self.handlebars = handlebars\n",
        "\n",
        "    def describe(self):\n",
        "        return super().describe() + f' У меня {self.handlebars} рулей.'\n",
        "\n",
        "car = Car('Tesla', 4)\n",
        "bicycle = Bicycle('Giant', 2)\n",
        "motorcycle = Motorcycle('Harley-Davidson', 2)\n",
        "\n",
        "print(car.describe())\n",
        "print(bicycle.describe())\n",
        "print(motorcycle.describe())"
      ],
      "metadata": {
        "id": "WOFOZQmDBKf4",
        "colab": {
          "base_uri": "https://localhost:8080/"
        },
        "outputId": "94f8cc3e-5f7e-46da-9ab0-be9be3b532ed"
      },
      "execution_count": null,
      "outputs": [
        {
          "output_type": "stream",
          "name": "stdout",
          "text": [
            "Я транспортное средство Tesla.У меня 4 колёс.\n",
            "Я транспортное средство Giant.У меня 2 педалей.\n",
            "Я транспортное средство Harley-Davidson.У меня 2 рулей.\n"
          ]
        }
      ]
    },
    {
      "cell_type": "markdown",
      "source": [
        "# Задание 3"
      ],
      "metadata": {
        "id": "7E_SJXMJBvD4"
      }
    },
    {
      "cell_type": "markdown",
      "source": [
        "Онлайн-магазин:\n",
        "- Создайте модель для онлайн-магазина с классами Product, Order, Customer, и ShoppingCart.\n",
        "- Product включает информацию о цене, наличии на складе и категории товара.\n",
        "Order обрабатывает процесс покупки, включая расчет цены с учетом скидок и налогов.\n",
        "- Customer управляет информацией о пользователе и его истории заказов.\n",
        "- ShoppingCart позволяет добавлять, удалять и обновлять количество товаров перед оформлением заказа.\n"
      ],
      "metadata": {
        "id": "dd1mwKj_BxHa"
      }
    },
    {
      "cell_type": "code",
      "source": [
        "class Product:\n",
        "    def __init__(self, name, price, quantity):\n",
        "        self.name = name\n",
        "        self.price = price\n",
        "        self.quantity = quantity\n",
        "\n",
        "class Order(Product):\n",
        "    def __init__(self, name, price, quantity, discounts=[]):\n",
        "      super().__init__(name, price, quantity)\n",
        "      self.discounts = discounts\n",
        "\n",
        "    def calculate_total(self):\n",
        "        total = 0\n",
        "        total += self.price * self.quantity\n",
        "\n",
        "        for discount in self.discounts:\n",
        "          total = total*(1-discount)\n",
        "\n",
        "        return total\n",
        "\n",
        "class Customer:\n",
        "  order_history = []\n",
        "  def __init__(self, name, email):\n",
        "      self.name = name\n",
        "      self.email = email\n",
        "\n",
        "  def add_order(self, order):\n",
        "      self.order_history.append(order)\n",
        "\n",
        "class ShoppingCart:\n",
        "  items = {}\n",
        "\n",
        "  def __init__(self, customer):\n",
        "    self.customer = customer\n",
        "\n",
        "  def add_product(self, product, quantity):\n",
        "    if product in self.items:\n",
        "      self.items[product] += quantity\n",
        "    else:\n",
        "      self.items[product] = quantity\n",
        "    print(f'Добавлено {product} в корзину в количестве {quantity}.')\n",
        "\n",
        "  def remove_product(self, product):\n",
        "    if product in self.items:\n",
        "      del self.items[product]\n",
        "      print(f'Товар удален из корзины.')\n",
        "    else:\n",
        "      print(f'Товара в корзине нет.')\n",
        "\n",
        "  def update_quantity(self, product, quantity):\n",
        "    if product in self.items:\n",
        "      print(f'Количество товара обновлено до {quantity}.')\n",
        "    else:\n",
        "      print(f'Товара в корзине нет.')\n",
        "\n",
        "def chek_out(cart, product):\n",
        "  total = 0\n",
        "  for k, v in cart.items.items():\n",
        "    if product.name == k:\n",
        "      total += product.calculate_total()\n",
        "  return total\n",
        "\n",
        "\n",
        "\n",
        "\n",
        "if __name__ == \"__main__\":\n",
        "  product1 = Order(\"Товар 1\", 100, 10, [0.5])\n",
        "  product2 = Order(\"Товар 2\", 200, 5, [0.25])\n",
        "\n",
        "  customer = Customer(\"John Doe\", \"john@example.com\")\n",
        "\n",
        "  cart = ShoppingCart(customer)\n",
        "\n",
        "  cart.add_product(product1.name, 2)\n",
        "  cart.add_product(product2.name, 1)\n",
        "\n",
        "  print(f'В вашей корзине счёт на {chek_out(cart, product1)}')\n"
      ],
      "metadata": {
        "id": "wkCcv_K-Bwdv",
        "colab": {
          "base_uri": "https://localhost:8080/"
        },
        "outputId": "27593587-4629-48d9-fcc7-8ce99d624a46"
      },
      "execution_count": null,
      "outputs": [
        {
          "output_type": "stream",
          "name": "stdout",
          "text": [
            "Добавлено Товар 1 в корзину в количестве 2.\n",
            "Добавлено Товар 2 в корзину в количестве 1.\n",
            "В вашей корзине счёт на 500.0\n"
          ]
        }
      ]
    },
    {
      "cell_type": "markdown",
      "source": [
        "# Задание 4"
      ],
      "metadata": {
        "id": "ih7iPlYfB7lL"
      }
    },
    {
      "cell_type": "markdown",
      "source": [
        "Симулятор космического корабля:\n",
        "- Создайте симулятор управления космическим кораблем с классами SpaceShip, CrewMember, и Mission.\n",
        "- SpaceShip имеет атрибуты для управления топливом, состоянием корпуса, и текущей скоростью.\n",
        "- CrewMember контролирует здоровье, навыки, и роли в команде (например, пилот, инженер).\n",
        "- Mission определяет цели, ресурсы, и возможные события (например, аварии, встречи с астероидами)."
      ],
      "metadata": {
        "id": "zLwqVCbpCBvc"
      }
    },
    {
      "cell_type": "code",
      "source": [
        "import random\n",
        "\n",
        "\n",
        "class SpaceShip:\n",
        "  fuel = 100\n",
        "  hull_integrity = 100\n",
        "  current_speed = 20\n",
        "\n",
        "  def __init__(self, name):\n",
        "    self.name = name\n",
        "\n",
        "  def accelerate(self, amount):\n",
        "    if self.fuel - amount <= 0:\n",
        "      print(f'{self.name} не имеет топлива для ускорения!')\n",
        "    else:\n",
        "      self.current_speed += amount\n",
        "      self.fuel -= amount\n",
        "      print(f'{self.name} ускоряется до {self.current_speed} км/ч.')\n",
        "    self.fuel = max(0, self.fuel)\n",
        "\n",
        "  def repair_hull(self, amount):\n",
        "    self.hull_integrity += amount\n",
        "    self.hull_integrity = min(100, self.hull_integrity)\n",
        "    print(f'{self.name} отремонтирован до {self.hull_integrity}% целостности корпуса.')\n",
        "\n",
        "  def repair_fuel(self, amount):\n",
        "    self.fuel += amount\n",
        "    self.fuel = min(100, self.hull_integrity)\n",
        "    print(f'{self.name} восполнил ресурсы до {self.fuel}')\n",
        "\n",
        "  def take_damage(self, damage):\n",
        "    self.hull_integrity -= damage\n",
        "    self.hull_integrity = max(0, self.hull_integrity)\n",
        "    print(f'{self.name} повредил корпус на {damage}% из-за столкновения!')\n",
        "\n",
        "  def status(self):\n",
        "    print(f'{\"-\" * 30}\\n \\\n",
        "    Корабль: {self.name}\\n \\\n",
        "    Топливо: {self.fuel}%\\n \\\n",
        "    Целостность корпуса: {self.hull_integrity}%\\n \\\n",
        "    Текущая скорость: {self.current_speed} км/ч')\n",
        "\n",
        "class CrewMember:\n",
        "  def __init__(self, name, role, health=100):\n",
        "    self.name = name\n",
        "    self.role = role\n",
        "    self.health = health\n",
        "\n",
        "  def take_damage(self, amount):\n",
        "    self.health -= amount\n",
        "    self.health = max(0, self.health)\n",
        "    print(f\"{self.name} получил урон. Текущее здоровье: {self.health}%.\")\n",
        "\n",
        "  def heal(self, amount):\n",
        "    self.health += amount\n",
        "    self.health = min(100, self.health)\n",
        "    print(f\"{self.name} исцелён. Текущее здоровье: {self.health}%.\")\n",
        "\n",
        "  def status(self):\n",
        "    print(f'{\"-\" * 30}\\n \\\n",
        "    Член экипажа: {self.name},\\n \\\n",
        "    Роль: {self.role},\\n \\\n",
        "    Здоровье: {self.health}%')\n",
        "\n",
        "class Mission:\n",
        "  def encounter_event(self):\n",
        "    event_outcome = random.choice(['asteroid', 'repair_needed', 'exploring_planet'])\n",
        "    return event_outcome\n",
        "\n",
        "  def handle_event(self, spaceship, member1, member2):\n",
        "    option = random.choice(['negative', 'positive'])\n",
        "    member = random.choice([member1, member2])\n",
        "    event = self.encounter_event()\n",
        "    if event == 'asteroid':\n",
        "      print('--Астероиды--')\n",
        "      print('О, нет! Что же нам делать?')\n",
        "      print('1. Пытаемся уклониться!')\n",
        "      print('2. Врубай двигатель!')\n",
        "      answer = input()\n",
        "      if answer == '1':\n",
        "        if option == 'positive':\n",
        "          damage = random.randint(40, 80)\n",
        "          print('О, нет! К нам приближается астероид!')\n",
        "          spaceship.take_damage(damage)\n",
        "        else:\n",
        "          print('Да! Он пролетает мимо!')\n",
        "\n",
        "      elif answer == '2':\n",
        "        if option == 'positive':\n",
        "          print('В этот раз нам удасться быстро завести мотор!')\n",
        "          amount = random.randint(5, 20)\n",
        "          spaceship.accelerate(amount)\n",
        "          if spaceship.fuel <= 0:\n",
        "            damage = random.randint(40, 80)\n",
        "            print('О, нет! К нам приближается астероид!')\n",
        "            spaceship.take_damage(damage)\n",
        "          else:\n",
        "            if spaceship.current_speed >= 60:\n",
        "              print('Мы успешно оторвались!')\n",
        "            else:\n",
        "              print('Нет! Мощности недостаточно!')\n",
        "              damage = random.randint(10, 50)\n",
        "              print('О, нет! К нам приближается астероид!')\n",
        "              spaceship.take_damage(damage)\n",
        "        else:\n",
        "          print('В этот раз нам придётся задействовать много топлива!')\n",
        "          amount = random.randint(35, 65)\n",
        "          spaceship.accelerate(amount)\n",
        "          if spaceship.fuel <= 0:\n",
        "            damage = random.randint(40, 80)\n",
        "            print('О, нет! К нам приближается астероид!')\n",
        "            spaceship.take_damage(damage)\n",
        "          else:\n",
        "            if spaceship.current_speed >= 60:\n",
        "              print('Мы успешно оторвались!')\n",
        "            else:\n",
        "              print('Нет! Мощности недостаточно!')\n",
        "              damage = random.randint(10, 50)\n",
        "              print('О, нет! К нам приближается астероид!')\n",
        "              spaceship.take_damage(damage)\n",
        "\n",
        "    elif event == 'repair_needed':\n",
        "      print('--Ремонт--')\n",
        "      print('Возможно стоит найти время на космический корабль?')\n",
        "      print(f'{spaceship.name} модифицируют')\n",
        "      spaceship.repair_hull(20)\n",
        "\n",
        "    elif event == 'exploring_planet':\n",
        "      print(f'--Планета--\\n \\\n",
        "      Возможно там нас поджидает опасность...\\n \\\n",
        "      Стоит ли нам остановиться на ней?\\n \\\n",
        "      1. Да\\n \\\n",
        "      2. Нет')\n",
        "      answer = input()\n",
        "      if answer == '1':\n",
        "        if option == 'positive':\n",
        "          print('Мы встретили инопланетян! Они такие дружелюбные!')\n",
        "          print('Они хотят нам помочь!')\n",
        "          amount1 = random.randint(5, 25)\n",
        "          amount2 = random.randint(30, 50)\n",
        "          spaceship.repair_hull(amount1)\n",
        "          spaceship.repair_fuel(amount2)\n",
        "        else:\n",
        "          print('Мы встретили инопланетян! ... Они не выглядят дружелюбно...')\n",
        "          print(f'{member.name}! Берегись!')\n",
        "          amount = random.randint(5, 80)\n",
        "          member.take_damage(amount)\n",
        "          print('Нужно срочно сматываться!')\n",
        "          print('На полную мощность?')\n",
        "          print('1. Естественно!')\n",
        "          print('2. Может сможем уклониться?')\n",
        "          answer2 = input()\n",
        "          if answer2 == '1':\n",
        "            amount = random.randint(5, 40)\n",
        "            spaceship.accelerate(amount)\n",
        "\n",
        "            if spaceship.fuel == 0:\n",
        "              print('У нас нет возможности ускориться!')\n",
        "              damage = random.randint(40, 80)\n",
        "              spaceship.take_damage(damage)\n",
        "              print('Инопланетяне пытаются нас догнать!')\n",
        "              print('Мы оторвались.')\n",
        "\n",
        "            else:\n",
        "              print(f'Мы успешно оторвались! Теперь у нас есть возможность полечить: {member.name}')\n",
        "              amount3 = random.randint(5, 70)\n",
        "              member.heal(amount3)\n",
        "\n",
        "          else:\n",
        "            print(f'Мы успешно скрылись! Теперь у нас есть возможность полечить: {member.name}')\n",
        "            amount3 = random.randint(5, 30)\n",
        "            member.heal(amount3)\n",
        "\n",
        "      else:\n",
        "        spaceship.fuel -= 20\n",
        "        print('Лучший способ избежать неприятности - просто не искать их! Держим путь дальше.')\n",
        "        print('За это время можем провести медобследование членов команды.')\n",
        "        member1.heal(amount)\n",
        "        member2.heal(amount)\n",
        "\n",
        "if __name__ == \"__main__\":\n",
        "  my_spaceship = SpaceShip(\"USS Enterprise\")\n",
        "\n",
        "  pilot = CrewMember(\"Алексей\", \"Пилот\")\n",
        "  engineer = CrewMember(\"Мария\", \"Инженер\")\n",
        "\n",
        "  mission = Mission()\n",
        "\n",
        "  my_spaceship.status()\n",
        "  pilot.status()\n",
        "  engineer.status()\n",
        "\n",
        "  n = random.randint(3, 7)\n",
        "\n",
        "  print('Вперёд навстречу преключениям! Наша миссия - исследовать космос.')\n",
        "\n",
        "  for _ in range(n):\n",
        "    print(\"Новый этап миссии:\")\n",
        "    mission.handle_event(my_spaceship, pilot, engineer)\n",
        "    my_spaceship.status()\n",
        "    pilot.status()\n",
        "    engineer.status()\n",
        "\n",
        "    if my_spaceship.hull_integrity <= 0:\n",
        "      print(f'{my_spaceship.name} разрушен! Миссия провалена.')\n",
        "      exit()\n",
        "\n",
        "    if pilot.health == 0 or engineer.health == 0:\n",
        "      print('Мы потеряли члена команды... Мы не можем продолжать миссию.')\n",
        "      exit()\n",
        "\n",
        "  print(\"Миссия завершена!\")"
      ],
      "metadata": {
        "id": "4NyrOOy8B9ED"
      },
      "execution_count": null,
      "outputs": []
    },
    {
      "cell_type": "markdown",
      "source": [
        "# Дополнительно:"
      ],
      "metadata": {
        "id": "F7mRVsZjCXk0"
      }
    },
    {
      "cell_type": "markdown",
      "source": [
        "**Описание:** создайте консольную версию игры крестики-нолики, используя классы"
      ],
      "metadata": {
        "id": "X4Lkf86UCc1h"
      }
    },
    {
      "cell_type": "code",
      "source": [],
      "metadata": {
        "id": "x9OxpNsyCcUo"
      },
      "execution_count": null,
      "outputs": []
    }
  ]
}