{
  "nbformat": 4,
  "nbformat_minor": 0,
  "metadata": {
    "colab": {
      "provenance": [],
      "include_colab_link": true
    },
    "kernelspec": {
      "name": "python3",
      "display_name": "Python 3"
    },
    "language_info": {
      "name": "python"
    }
  },
  "cells": [
    {
      "cell_type": "markdown",
      "metadata": {
        "id": "view-in-github",
        "colab_type": "text"
      },
      "source": [
        "<a href=\"https://colab.research.google.com/github/relladonna/-2.0/blob/main/%D0%9A%D0%BE%D0%BF%D0%B8%D1%8F_%D0%B1%D0%BB%D0%BE%D0%BA%D0%BD%D0%BE%D1%82%D0%B0_%22%D0%9F%D1%80%D0%B0%D0%BA%D1%82%D0%B8%D0%BA%D0%B0_1_1_0_ipynb%22.ipynb\" target=\"_parent\"><img src=\"https://colab.research.google.com/assets/colab-badge.svg\" alt=\"Open In Colab\"/></a>"
      ]
    },
    {
      "cell_type": "markdown",
      "source": [
        "**ФИО:**"
      ],
      "metadata": {
        "id": "GEsFKJm-ABFp"
      }
    },
    {
      "cell_type": "code",
      "execution_count": null,
      "metadata": {
        "id": "wZMLYG_G_-19"
      },
      "outputs": [],
      "source": []
    },
    {
      "cell_type": "markdown",
      "source": [
        "# Задание 1"
      ],
      "metadata": {
        "id": "H4DrYnJjADuZ"
      }
    },
    {
      "cell_type": "markdown",
      "source": [
        "**Описание:** Создайте иерархию классов для разных типов сотрудников в компании. Реализуйте родительский класс Employee и дочерние классы Manager и Developer. Каждый класс должен иметь метод для расчета зарплаты на основе различных критериев класса.\n",
        "\n",
        "\n",
        "Отрабатываемый принцип: Наследование\n",
        "\n"
      ],
      "metadata": {
        "id": "C17FWep-AF4a"
      }
    },
    {
      "cell_type": "code",
      "source": [
        "class Employee:\n",
        "  def __init__(self, tarif_rate, hours_worked, premium):\n",
        "    self.tarif_rate = tarif_rate\n",
        "    self.hours_worked = hours_worked\n",
        "    self.premium = premium\n",
        "\n",
        "  def monthly_salary(self):\n",
        "    ms = self.tarif_rate*self.hours_worked\n",
        "    return ms\n",
        "\n",
        "\n",
        "class Manager(Employee):\n",
        "  def __init__(self, tarif_rate, hours_worked, premium, manager_rate):\n",
        "    super().__init__(tarif_rate, hours_worked, premium)\n",
        "    self.manager_rate = manager_rate\n",
        "\n",
        "  def manager_salary(self):\n",
        "    manag_s = Employee.monthly_salary(self) + self.manager_rate * self.premium\n",
        "    return manag_s\n",
        "\n",
        "\n",
        "class Developer(Employee):\n",
        "  def __init__(self, tarif_rate, hours_worked, premium, developer_rate, additional_coefficient):\n",
        "    super().__init__(tarif_rate, hours_worked, premium)\n",
        "    self.developer_rate = developer_rate\n",
        "    self.additional_coefficient = additional_coefficient\n",
        "\n",
        "  def developer_salary(self):\n",
        "    devel_s = Employee.monthly_salary(self) + self.developer_rate * self.premium + self.additional_coefficient\n",
        "    return devel_s\n",
        "\n",
        "\n",
        "developer = Developer(1000, 10, 15000, 0.75, 1.25)\n",
        "manager = Manager(2000, 15, 9000, 0.5)\n",
        "\n",
        "print(manager.manager_salary())"
      ],
      "metadata": {
        "id": "aexGXzqCAFH7",
        "colab": {
          "base_uri": "https://localhost:8080/"
        },
        "outputId": "c3c3c574-8512-43e3-e5db-72555705b15e"
      },
      "execution_count": null,
      "outputs": [
        {
          "output_type": "stream",
          "name": "stdout",
          "text": [
            "34500.0\n"
          ]
        }
      ]
    },
    {
      "cell_type": "markdown",
      "source": [
        "# Задание 2"
      ],
      "metadata": {
        "id": "ERAi0TG5BI6v"
      }
    },
    {
      "cell_type": "markdown",
      "source": [
        "**Описание:** Создайте иерархию классов для различных типов транспортных средств (Необходим один родительский класс и 3 дочерних). Реализуйте метод, который позволяет каждому транспортному средству возвращать собственное описание (Метод в каждом классе должен иметь одинаковое название). Продемонстрируйте вызов данного метода для каждого транспортного средства.\n",
        "\n",
        "\n",
        "Отрабатываемый принцип: Полиморфизм"
      ],
      "metadata": {
        "id": "sJ3k7ZcgBK87"
      }
    },
    {
      "cell_type": "code",
      "source": [
        "class Vehicle:\n",
        "    def __init__(self, name):\n",
        "        self.name = name\n",
        "\n",
        "    def describe(self):\n",
        "        return f\"Я транспортное средство по имени {self.name}.\"\n",
        "\n",
        "class Car(Vehicle):\n",
        "    def __init__(self, name, wheels):\n",
        "        super().__init__(name)\n",
        "        self.wheels = wheels\n",
        "\n",
        "    def describe(self):\n",
        "        return super().describe() + f\" У меня {self.wheels} колёс.\"\n",
        "\n",
        "class Bicycle(Vehicle):\n",
        "    def __init__(self, name, pedals):\n",
        "        super().__init__(name)\n",
        "        self.pedals = pedals\n",
        "\n",
        "    def describe(self):\n",
        "        return super().describe() + f\" У меня {self.pedals} педалей.\"\n",
        "\n",
        "class Motorcycle(Vehicle):\n",
        "    def __init__(self, name, handlebars):\n",
        "        super().__init__(name)\n",
        "        self.handlebars = handlebars\n",
        "\n",
        "    def describe(self):\n",
        "        return super().describe() + f\" У меня {self.handlebars} рулей.\"\n",
        "\n",
        "car = Car(\"Tesla\", 4)\n",
        "bicycle = Bicycle(\"Giant\", 2)\n",
        "motorcycle = Motorcycle(\"Harley-Davidson\", 2)\n",
        "\n",
        "print(car.describe())\n",
        "print(bicycle.describe())\n",
        "print(motorcycle.describe())"
      ],
      "metadata": {
        "id": "WOFOZQmDBKf4",
        "colab": {
          "base_uri": "https://localhost:8080/"
        },
        "outputId": "420a10da-fe97-4870-eff1-6c9e9149bf53"
      },
      "execution_count": null,
      "outputs": [
        {
          "output_type": "stream",
          "name": "stdout",
          "text": [
            "Я транспортное средство по имени Tesla. У меня 4 колёс.\n",
            "Я транспортное средство по имени Giant. У меня 2 педалей.\n",
            "Я транспортное средство по имени Harley-Davidson. У меня 2 рулей.\n"
          ]
        }
      ]
    },
    {
      "cell_type": "markdown",
      "source": [
        "# Задание 3"
      ],
      "metadata": {
        "id": "7E_SJXMJBvD4"
      }
    },
    {
      "cell_type": "markdown",
      "source": [
        "Онлайн-магазин:\n",
        "- Создайте модель для онлайн-магазина с классами Product, Order, Customer, и ShoppingCart.\n",
        "- Product включает информацию о цене, наличии на складе и категории товара.\n",
        "Order обрабатывает процесс покупки, включая расчет цены с учетом скидок и налогов.\n",
        "- Customer управляет информацией о пользователе и его истории заказов.\n",
        "- ShoppingCart позволяет добавлять, удалять и обновлять количество товаров перед оформлением заказа.\n"
      ],
      "metadata": {
        "id": "dd1mwKj_BxHa"
      }
    },
    {
      "cell_type": "code",
      "source": [
        "class Product:\n",
        "    def __init__(self, name, price, quantity, category):\n",
        "        self.name = name\n",
        "        self.price = price\n",
        "        self.quantity = quantity\n",
        "        self.category = category\n",
        "\n",
        "class Order:\n",
        "    def __init__(self, products, discounts=[]):\n",
        "        self.products = products\n",
        "        self.discounts = discounts\n",
        "\n",
        "    def calculate_total(self):\n",
        "        total = 0\n",
        "        for product in self.products:\n",
        "            total += product.price * product.quantity\n",
        "\n",
        "        for discount in self.discounts:\n",
        "            total -= discount.amount\n",
        "\n",
        "        return total\n",
        "\n",
        "class Customer:\n",
        "    def __init__(self, name, email, address, order_history=[]):\n",
        "        self.name = name\n",
        "        self.email = email\n",
        "        self.address = address\n",
        "        self.order_history = order_history\n",
        "\n",
        "class ShoppingCart:\n",
        "    products = []\n",
        "    quantity\n",
        "\n",
        "    def add_product(self, product):\n",
        "        self.products.append(product)\n",
        "\n",
        "    def remove_product(self, product):\n",
        "        self.products.remove(product)\n",
        "\n",
        "    def update_product_quantity(self, product, quantity):\n",
        "        for p in self.products:\n",
        "            if p == product:\n",
        "                p.quantity = quantity\n",
        "                break\n",
        "\n",
        "product1 = Product(\"iPhone 14\", 1000, 10, \"Electronics\")\n",
        "product2 = Product(\"Macbook Air\", 1500, 5, \"Electronics\")\n",
        "\n",
        "customer = Customer(\"John Doe\", \"john.doe@example\", \"123 Main Street\")\n",
        "\n",
        "shopping_cart = ShoppingCart()\n",
        "shopping_cart.add_product(product1)\n",
        "shopping_cart.add_product(product2)\n",
        "\n",
        "order = Order(customer, shopping_cart.products)\n",
        "total_cost = order.calculate_total()\n",
        "\n",
        "print(\"Заказ для:\", customer.name)\n",
        "print(\"Товары в заказе:\")\n",
        "for product in order.products:\n",
        "    print(f\"- {product.name} x {product.quantity}\")\n",
        "print(\"Общая стоимость:\", total_cost)"
      ],
      "metadata": {
        "id": "wkCcv_K-Bwdv",
        "colab": {
          "base_uri": "https://localhost:8080/"
        },
        "outputId": "e8fdbc63-a4e2-49fd-b720-9425c1b06dcb"
      },
      "execution_count": null,
      "outputs": [
        {
          "output_type": "stream",
          "name": "stdout",
          "text": [
            "Заказ для: John Doe\n",
            "Товары в заказе:\n",
            "- iPhone 14 x 10\n",
            "- Macbook Air x 5\n",
            "Общая стоимость: 17500\n"
          ]
        }
      ]
    },
    {
      "cell_type": "markdown",
      "source": [
        "# Задание 4"
      ],
      "metadata": {
        "id": "ih7iPlYfB7lL"
      }
    },
    {
      "cell_type": "markdown",
      "source": [
        "Симулятор космического корабля:\n",
        "- Создайте симулятор управления космическим кораблем с классами SpaceShip, CrewMember, и Mission.\n",
        "- SpaceShip имеет атрибуты для управления топливом, состоянием корпуса, и текущей скоростью.\n",
        "- CrewMember контролирует здоровье, навыки, и роли в команде (например, пилот, инженер).\n",
        "- Mission определяет цели, ресурсы, и возможные события (например, аварии, встречи с астероидами)."
      ],
      "metadata": {
        "id": "zLwqVCbpCBvc"
      }
    },
    {
      "cell_type": "code",
      "source": [],
      "metadata": {
        "id": "4NyrOOy8B9ED"
      },
      "execution_count": null,
      "outputs": []
    },
    {
      "cell_type": "markdown",
      "source": [
        "# Дополнительно:"
      ],
      "metadata": {
        "id": "F7mRVsZjCXk0"
      }
    },
    {
      "cell_type": "markdown",
      "source": [
        "**Описание:** создайте консольную версию игры крестики-нолики, используя классы"
      ],
      "metadata": {
        "id": "X4Lkf86UCc1h"
      }
    },
    {
      "cell_type": "code",
      "source": [],
      "metadata": {
        "id": "x9OxpNsyCcUo"
      },
      "execution_count": null,
      "outputs": []
    }
  ]
}