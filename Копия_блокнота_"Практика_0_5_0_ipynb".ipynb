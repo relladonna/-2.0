{
  "nbformat": 4,
  "nbformat_minor": 0,
  "metadata": {
    "colab": {
      "provenance": [],
      "include_colab_link": true
    },
    "kernelspec": {
      "name": "python3",
      "display_name": "Python 3"
    },
    "language_info": {
      "name": "python"
    }
  },
  "cells": [
    {
      "cell_type": "markdown",
      "metadata": {
        "id": "view-in-github",
        "colab_type": "text"
      },
      "source": [
        "<a href=\"https://colab.research.google.com/github/relladonna/-2.0/blob/main/%D0%9A%D0%BE%D0%BF%D0%B8%D1%8F_%D0%B1%D0%BB%D0%BE%D0%BA%D0%BD%D0%BE%D1%82%D0%B0_%22%D0%9F%D1%80%D0%B0%D0%BA%D1%82%D0%B8%D0%BA%D0%B0_0_5_0_ipynb%22.ipynb\" target=\"_parent\"><img src=\"https://colab.research.google.com/assets/colab-badge.svg\" alt=\"Open In Colab\"/></a>"
      ]
    },
    {
      "cell_type": "markdown",
      "source": [
        "ФИО:"
      ],
      "metadata": {
        "id": "Bu5gIJfHNPHw"
      }
    },
    {
      "cell_type": "code",
      "execution_count": null,
      "metadata": {
        "id": "CbHI8c7cM9Eg"
      },
      "outputs": [],
      "source": [
        "Мосина Вероника Григорьевна"
      ]
    },
    {
      "cell_type": "markdown",
      "source": [
        "# **Задание 1**"
      ],
      "metadata": {
        "id": "VrNrBpmocGRd"
      }
    },
    {
      "cell_type": "markdown",
      "source": [
        "\n",
        "\n",
        "Дан словарь, содержащий имена и возраст людей, напишите программу выводящую возраст человека по имени\n",
        "\n",
        "Дано:\n",
        "\n",
        "```\n",
        "{\"Alice\": 25, \"Bob\": 30, \"Charlie\": 35}\n",
        "```\n",
        "\n",
        "Вввод:\n",
        "\n",
        "\n",
        "```\n",
        "Alice\n",
        "```\n",
        "\n",
        "Вывод:\n",
        "\n",
        "\n",
        "```\n",
        "Alice 25\n",
        "```\n"
      ],
      "metadata": {
        "id": "XhV1bnm1bR2h"
      }
    },
    {
      "cell_type": "code",
      "source": [
        "dictionary={\"Alice\": 25, \"Bob\": 30, \"Charlie\": 35}\n",
        "print('Чей возраст вы хотите узнать?')\n",
        "a=input()\n",
        "print(a, dictionary[a])"
      ],
      "metadata": {
        "id": "PElJj6DvsgjD",
        "colab": {
          "base_uri": "https://localhost:8080/"
        },
        "outputId": "6604f28a-6d10-41fa-86af-f0eb5255f348"
      },
      "execution_count": null,
      "outputs": [
        {
          "output_type": "stream",
          "name": "stdout",
          "text": [
            "Чей возраст вы хотите узнать?\n",
            "Alice\n",
            "Alice 25\n"
          ]
        }
      ]
    },
    {
      "cell_type": "markdown",
      "source": [
        "# **Задание 2**\n"
      ],
      "metadata": {
        "id": "lpjJz-_YcJ-t"
      }
    },
    {
      "cell_type": "markdown",
      "source": [
        "\n",
        "\n",
        "Дан список, состоящий из целых чисел, необходимо написать функцию считающую сумму всех положительных четных чисел списка\n",
        "\n",
        "Ввод:\n",
        "\n",
        "```\n",
        "1, 2, 3, 4, 5, 6, 7, 8, 9\n",
        "```\n",
        "\n",
        "Вывод:\n",
        "\n",
        "\n",
        "```\n",
        "20\n",
        "```\n",
        "\n",
        "***Запрещено:***\n",
        "\n",
        "*   Использование готовых функций для суммирования чисел\n"
      ],
      "metadata": {
        "id": "tMEsAB4rUiWW"
      }
    },
    {
      "cell_type": "code",
      "source": [
        "print('Введите список чисел')\n",
        "a=input()\n",
        "s=a.split(', ')\n",
        "c=0\n",
        "for i in s:\n",
        "  if int(i)>0 and int(i)%2==0:\n",
        "    c+=int(i)\n",
        "print(c)"
      ],
      "metadata": {
        "id": "wDNUFLeqNQS_",
        "colab": {
          "base_uri": "https://localhost:8080/"
        },
        "outputId": "e40d7e73-c0ea-420d-c3f5-ff8dbc77bced"
      },
      "execution_count": null,
      "outputs": [
        {
          "output_type": "stream",
          "name": "stdout",
          "text": [
            "1, 2, 3, 4, 5, 6, 7, 8, 9\n",
            "20\n"
          ]
        }
      ]
    },
    {
      "cell_type": "markdown",
      "source": [
        "# **Задание 3**"
      ],
      "metadata": {
        "id": "WT_v-vz1dUZJ"
      }
    },
    {
      "cell_type": "markdown",
      "source": [
        "Дан словарь, содержащий название фрукта и его цвет, выведите список всех желтых фруктов\n",
        "\n",
        "\n",
        "Дано:\n",
        "\n",
        "```\n",
        "fruits_and_colors = {\n",
        "    \"apple\": \"red\",\n",
        "    \"banana\": \"yellow\",\n",
        "    \"mango\": \"yellow\",\n",
        "    \"orange\": \"orange\",\n",
        "    \"lemon\": \"yellow\",\n",
        "    \"grape\": \"purple\"\n",
        "}\n",
        "```\n",
        "\n",
        "Вывод:\n",
        "\n",
        "\n",
        "```\n",
        "Yellow fruits:\n",
        "banana\n",
        "lemon\n",
        "mango\n",
        "```\n",
        "\n"
      ],
      "metadata": {
        "id": "ZI5Xeh2DdXgF"
      }
    },
    {
      "cell_type": "code",
      "source": [
        "fruits_and_colors = {\n",
        "    \"apple\": \"red\",\n",
        "    \"banana\": \"yellow\",\n",
        "    \"mango\": \"yellow\",\n",
        "    \"orange\": \"orange\",\n",
        "    \"lemon\": \"yellow\",\n",
        "    \"grape\": \"purple\"\n",
        "}\n",
        "print('Yellow fruits:')\n",
        "for k, v in fruits_and_colors.items():\n",
        "  if v==\"yellow\":\n",
        "    print(k)"
      ],
      "metadata": {
        "id": "aNzFTkhKdkTG",
        "colab": {
          "base_uri": "https://localhost:8080/"
        },
        "outputId": "9a2b8f87-973b-444a-bbd5-15e7963ece78"
      },
      "execution_count": null,
      "outputs": [
        {
          "output_type": "stream",
          "name": "stdout",
          "text": [
            "Yellow fruits:\n",
            "banana\n",
            "mango\n",
            "lemon\n"
          ]
        }
      ]
    },
    {
      "cell_type": "markdown",
      "source": [
        "# **Задание 4**\n"
      ],
      "metadata": {
        "id": "iHtMGt2icM7w"
      }
    },
    {
      "cell_type": "markdown",
      "source": [
        "\n",
        "\n",
        "Дан словарь, необходимо написать функцию меняющую ключ и значение местами\n",
        "\n",
        "Дано:\n",
        "\n",
        "\n",
        "```\n",
        "{\"a\": 1, \"b\": 2, \"c\": 3}\n",
        "```\n",
        "\n",
        "Вывод:\n",
        "\n",
        "```\n",
        "{1: 'a', 2: 'b', 3: 'c'}\n",
        "```\n",
        "\n"
      ],
      "metadata": {
        "id": "rS3THsnBQ_EB"
      }
    },
    {
      "cell_type": "code",
      "source": [
        "d1={\"a\": 1, \"b\": 2, \"c\": 3}\n",
        "d2={}\n",
        "for k, v in d1.items():\n",
        "  d2[v]=k\n",
        "print(d2)"
      ],
      "metadata": {
        "id": "MNRusyLDcQ59",
        "colab": {
          "base_uri": "https://localhost:8080/"
        },
        "outputId": "1680a2f5-1c77-4db2-c568-f35593f64e0f"
      },
      "execution_count": null,
      "outputs": [
        {
          "output_type": "stream",
          "name": "stdout",
          "text": [
            "{1: 'a', 2: 'b', 3: 'c'}\n"
          ]
        }
      ]
    },
    {
      "cell_type": "markdown",
      "source": [
        "# **Задание 5**"
      ],
      "metadata": {
        "id": "x6ff5nd0cUxD"
      }
    },
    {
      "cell_type": "markdown",
      "source": [
        "Дан список слов, неограниченной длинны, сформируйте словарь, где в качестве ключа будет слово, а в качестве значения количество слов\n",
        "\n",
        "**Критерии**\n",
        "\n",
        "\n",
        "*   Словарь необходимо отсортировать по убыванию количества элементов в списке.\n",
        "*   Подсчет элементов должен быть реализован в отдельной функции\n",
        "*   Сортировка пары `ключ:значение` должна быть реализована также в виде отдельной функции\n",
        "\n",
        "\n",
        "\n",
        "\n",
        "Дано:\n",
        "```\n",
        "['apple','banana','orange','apple','apple','banana']\n",
        "```\n",
        "\n",
        "\n",
        "Вывод:\n",
        "```\n",
        "{'apple':3, 'banana': 2, 'orange': 1}\n",
        "```\n",
        "\n",
        "***Запрещено:***\n",
        "\n",
        "*   Использование готовых функций для сортировки\n",
        "*   Использование готовых функций для подсчета элементов\n",
        "\n"
      ],
      "metadata": {
        "id": "ypQNHOG4NQz3"
      }
    },
    {
      "cell_type": "code",
      "source": [
        "# Подсказка: сортировку словаря можно сделать через две функции (нахождение максимального эллемента и основной функции сортировки)"
      ],
      "metadata": {
        "id": "J10PjdVQUbyq"
      },
      "execution_count": null,
      "outputs": []
    },
    {
      "cell_type": "code",
      "source": [
        "def dictionary(s):\n",
        "  d={}\n",
        "  d2={}\n",
        "  for i in s:\n",
        "    if not(i in d):\n",
        "      d[i]=0\n",
        "    if i in d:\n",
        "      d[i]+=1\n",
        "  while len(d)!=0:\n",
        "    for k, v in d.items():\n",
        "      if v==max(d.values()):\n",
        "        d2[k]=v\n",
        "        del d[k]\n",
        "        break\n",
        "  return d2\n",
        "\n",
        "\n",
        "s=['orange', 'banana', 'apple', 'apple', 'banana', 'apple']\n",
        "print(dictionary(s))"
      ],
      "metadata": {
        "colab": {
          "base_uri": "https://localhost:8080/"
        },
        "id": "g_mC_7NrM60m",
        "outputId": "9583e19b-f70f-41a4-cf8f-2250e50a05e2"
      },
      "execution_count": null,
      "outputs": [
        {
          "output_type": "stream",
          "name": "stdout",
          "text": [
            "{'apple': 3, 'banana': 2, 'orange': 1}\n"
          ]
        }
      ]
    },
    {
      "cell_type": "markdown",
      "source": [
        "# **Задание 6**"
      ],
      "metadata": {
        "id": "d7fDUr2WcY_G"
      }
    },
    {
      "cell_type": "markdown",
      "source": [
        "Дан словарь, содержащий информацию о людях, необходимо:\n",
        "\n",
        "\n",
        "\n",
        "*   Вывести всех людей старше 30 лет\n",
        "*   Вывести список городов и количество людей из словаря проживающих в них\n",
        "*   Вывести список профессий и список людей для каждой профессии\n",
        "\n",
        "**Критерии**\n",
        "\n",
        "Каждый из пунктов необходимо реализовать в виде функции\n",
        "\n"
      ],
      "metadata": {
        "id": "m11qdVhSWBi7"
      }
    },
    {
      "cell_type": "code",
      "source": [
        "people_info = {\n",
        "    \"Alice\": {\"age\": 25, \"city\": \"New York\", \"occupation\": \"Engineer\"},\n",
        "    \"Bob\": {\"age\": 30, \"city\": \"Los Angeles\", \"occupation\": \"Designer\"},\n",
        "    \"Charlie\": {\"age\": 35, \"city\": \"Chicago\", \"occupation\": \"Teacher\"},\n",
        "    \"Diana\": {\"age\": 28, \"city\": \"Miami\", \"occupation\": \"Doctor\"},\n",
        "    \"Ethan\": {\"age\": 40, \"city\": \"Seattle\", \"occupation\": \"Chef\"},\n",
        "    \"Frank\": {\"age\": 32, \"city\": \"Atlanta\", \"occupation\": \"Lawyer\"},\n",
        "    \"Gabriella\": {\"age\": 29, \"city\": \"San Francisco\", \"occupation\": \"Software Engineer\"},\n",
        "    \"Harrison\": {\"age\": 38, \"city\": \"Denver\", \"occupation\": \"Architect\"},\n",
        "    \"Isabella\": {\"age\": 26, \"city\": \"Washington D.C.\", \"occupation\": \"Journalist\"},\n",
        "    \"Julian\": {\"age\": 42, \"city\": \"Miami\", \"occupation\": \"Musician\"},\n",
        "    \"Kate\": {\"age\": 31, \"city\": \"Philadelphia\", \"occupation\": \"Nurse\"},\n",
        "    \"Lucas\": {\"age\": 36, \"city\": \"Nashville\", \"occupation\": \"Businessman\"},\n",
        "    \"Mia\": {\"age\": 27, \"city\": \"Atlanta\", \"occupation\": \"Artist\"},\n",
        "    \"Natalie\": {\"age\": 39, \"city\": \"Portland\", \"occupation\": \"Writer\"},\n",
        "    \"Oliver\": {\"age\": 44, \"city\": \"Minneapolis\", \"occupation\": \"Professor\"},\n",
        "    \"Penelope\": {\"age\": 33, \"city\": \"San Diego\", \"occupation\": \"Marketing Manager\"},\n",
        "    \"Quincy\": {\"age\": 41, \"city\": \"Nashville\", \"occupation\": \"Singer\"},\n",
        "    \"Rachel\": {\"age\": 34, \"city\": \"Cleveland\", \"occupation\": \"Teacher\"},\n",
        "    \"Sophia\": {\"age\": 29, \"city\": \"Nashville\", \"occupation\": \"Engineer\"},\n",
        "    \"Tessa\": {\"age\": 37, \"city\": \"Miami\", \"occupation\": \"Lawyer\"}\n",
        "}"
      ],
      "metadata": {
        "id": "lSNtB39OWtFl"
      },
      "execution_count": null,
      "outputs": []
    },
    {
      "cell_type": "code",
      "source": [
        "people_info = {\n",
        "    \"Alice\": {\"age\": 25, \"city\": \"New York\", \"occupation\": \"Engineer\"},\n",
        "    \"Bob\": {\"age\": 30, \"city\": \"Los Angeles\", \"occupation\": \"Designer\"},\n",
        "    \"Charlie\": {\"age\": 35, \"city\": \"Chicago\", \"occupation\": \"Teacher\"},\n",
        "    \"Diana\": {\"age\": 28, \"city\": \"Miami\", \"occupation\": \"Doctor\"},\n",
        "    \"Ethan\": {\"age\": 40, \"city\": \"Seattle\", \"occupation\": \"Chef\"},\n",
        "    \"Frank\": {\"age\": 32, \"city\": \"Atlanta\", \"occupation\": \"Lawyer\"},\n",
        "    \"Gabriella\": {\"age\": 29, \"city\": \"San Francisco\", \"occupation\": \"Software Engineer\"},\n",
        "    \"Harrison\": {\"age\": 38, \"city\": \"Denver\", \"occupation\": \"Architect\"},\n",
        "    \"Isabella\": {\"age\": 26, \"city\": \"Washington D.C.\", \"occupation\": \"Journalist\"},\n",
        "    \"Julian\": {\"age\": 42, \"city\": \"Miami\", \"occupation\": \"Musician\"},\n",
        "    \"Kate\": {\"age\": 31, \"city\": \"Philadelphia\", \"occupation\": \"Nurse\"},\n",
        "    \"Lucas\": {\"age\": 36, \"city\": \"Nashville\", \"occupation\": \"Businessman\"},\n",
        "    \"Mia\": {\"age\": 27, \"city\": \"Atlanta\", \"occupation\": \"Artist\"},\n",
        "    \"Natalie\": {\"age\": 39, \"city\": \"Portland\", \"occupation\": \"Writer\"},\n",
        "    \"Oliver\": {\"age\": 44, \"city\": \"Minneapolis\", \"occupation\": \"Professor\"},\n",
        "    \"Penelope\": {\"age\": 33, \"city\": \"San Diego\", \"occupation\": \"Marketing Manager\"},\n",
        "    \"Quincy\": {\"age\": 41, \"city\": \"Nashville\", \"occupation\": \"Singer\"},\n",
        "    \"Rachel\": {\"age\": 34, \"city\": \"Cleveland\", \"occupation\": \"Teacher\"},\n",
        "    \"Sophia\": {\"age\": 29, \"city\": \"Nashville\", \"occupation\": \"Engineer\"},\n",
        "    \"Tessa\": {\"age\": 37, \"city\": \"Miami\", \"occupation\": \"Lawyer\"}\n",
        "}\n",
        "\n",
        "\n",
        "def people_age(people_info):\n",
        "  people_age={}\n",
        "  for k, v in people_info.items():\n",
        "    if v['age']>30:\n",
        "      print(k)\n",
        "  return ''\n",
        "\n",
        "def people_city(people_info):\n",
        "  people_city={}\n",
        "  for k, v in people_info.items():\n",
        "    if not(v['city'] in people_city):\n",
        "      people_city[v['city']]=0\n",
        "    if v['city'] in people_city:\n",
        "      people_city[v['city']]+=1\n",
        "  return people_city\n",
        "\n",
        "\n",
        "def people_occupation(people_info):\n",
        "  people_occupation={}\n",
        "  for k, v in people_info.items():\n",
        "    if v['occupation'] in people_occupation:\n",
        "      people_occupation[v[\"occupation\"]].append(k)\n",
        "    else:\n",
        "      people_occupation[v['occupation']]=list()\n",
        "      people_occupation[v[\"occupation\"]].append(k)\n",
        "  return people_occupation\n",
        "\n",
        "\n",
        "print(people_age(people_info))\n",
        "print(people_city(people_info))\n",
        "print(people_occupation(people_info))"
      ],
      "metadata": {
        "id": "qcLO5eQwXkNK",
        "colab": {
          "base_uri": "https://localhost:8080/"
        },
        "outputId": "24c64de4-a95d-4a96-b349-dd95827ae102"
      },
      "execution_count": null,
      "outputs": [
        {
          "output_type": "stream",
          "name": "stdout",
          "text": [
            "{35: ['Charlie'], 40: ['Ethan'], 32: ['Frank'], 38: ['Harrison'], 42: ['Julian'], 31: ['Kate'], 36: ['Lucas'], 39: ['Natalie'], 44: ['Oliver'], 33: ['Penelope'], 41: ['Quincy'], 34: ['Rachel'], 37: ['Tessa']}\n",
            "{'New York': 1, 'Los Angeles': 1, 'Chicago': 1, 'Miami': 3, 'Seattle': 1, 'Atlanta': 2, 'San Francisco': 1, 'Denver': 1, 'Washington D.C.': 1, 'Philadelphia': 1, 'Nashville': 3, 'Portland': 1, 'Minneapolis': 1, 'San Diego': 1, 'Cleveland': 1}\n",
            "{'Engineer': ['Alice', 'Sophia'], 'Designer': ['Bob'], 'Teacher': ['Charlie', 'Rachel'], 'Doctor': ['Diana'], 'Chef': ['Ethan'], 'Lawyer': ['Frank', 'Tessa'], 'Software Engineer': ['Gabriella'], 'Architect': ['Harrison'], 'Journalist': ['Isabella'], 'Musician': ['Julian'], 'Nurse': ['Kate'], 'Businessman': ['Lucas'], 'Artist': ['Mia'], 'Writer': ['Natalie'], 'Professor': ['Oliver'], 'Marketing Manager': ['Penelope'], 'Singer': ['Quincy']}\n"
          ]
        }
      ]
    },
    {
      "cell_type": "markdown",
      "source": [
        "# **Задание 7**"
      ],
      "metadata": {
        "id": "27IuB2YScezw"
      }
    },
    {
      "cell_type": "markdown",
      "source": [
        "Задание: Разработка системы отзывов о предметах\n",
        "\n",
        "Описание: Создать программу на Python для хранения и управления отзывами о предметах учебного курса. Программа должна позволять пользователям добавлять, просматривать и удалять отзывы, а также вычислять средний балл по заданному предмету.\n",
        "\n",
        "**Функционал:**\n",
        "\n",
        "*   Добавление отзыва и оценки:\n",
        "   *   Пользователь может ввести название предмета, оценку (от 1 до 5) и текст отзыва.\n",
        "   *   Отзывы должны храниться в структуре данных (например, словаре), где ключом будет название предмета, а значением - список отзывов (каждый отзыв может хранить оценку и комментарий).\n",
        "*   Просмотр отзывов и оценок:\n",
        "   *   Пользователь может запросить отзывы для указанного предмета.\n",
        "   *   Если для указанного предмета есть отзывы, программа должна отобразить список всех отзывов и соответствующих оценок.\n",
        "*   Удаление отзыва:\n",
        "   *   Пользователь может удалить отзыв по индексу. Необходимо заранее уведомить пользователя о том, какие отзывы доступны для удаления.\n",
        "   *   Программа должна обработать ситуацию, когда индекс введен неправильно.\n",
        "*   Вычисление среднего балла по предмету:\n",
        "   *   Пользователь может ввести название предмета, и программа должна вычислить и вывести средний балл по всем отзывам для этого предмета.\n",
        "   *   Если отзывов нет, программа должна сообщить об этом.\n",
        "\n",
        "\n",
        "**Критерии:**\n",
        "\n",
        "*   Код должен быть оформлен в виде функций\n",
        "*   Необходимо обрабатывать неправильный ввод пользователя\n",
        "*   Должны быть комментарии к функциям\n",
        "*   Присутсвует весь дополнительный функционал\n",
        "\n",
        "\n",
        "\n",
        "**Опционально:**\n",
        "\n",
        "Предлагаю вам добавить свои критерии оценки или вопросы, на которые должен ответить студент, чтобы оценить пару\n",
        "\n",
        "\n"
      ],
      "metadata": {
        "id": "Fd95-S9cYhct"
      }
    },
    {
      "cell_type": "code",
      "source": [
        "dictionary={'math':{'estimation': [5, 4], 'comment': ['Good!', 'Bad.']}, 'english':{'estimation': [5, 4], 'comment': ['Good!', 'Bad.']}:, 'spanish':{'estimation': [5, 4], 'comment': ['Good!', 'Bad.']}}\n",
        "dictionary={'Math':{'estimation': [], 'comment': []}, 'English':{'estimation': [], 'comment': []}, 'Spanish':{'estimation': [], 'comment': []}, 'Biology':{'estimation': [], 'comment': []}}\n"
      ],
      "metadata": {
        "id": "kzucJrCUa0o7"
      },
      "execution_count": null,
      "outputs": []
    },
    {
      "cell_type": "code",
      "source": [
        "dictionary={'Math':{'estimation': [5, 4], 'comment': ['Good!', 'Bad.']}, 'English':{'estimation': [], 'comment': []}, 'Spanish':{'estimation': [], 'comment': []}, 'Biology':{'estimation': [], 'comment': []}}\n",
        "\n",
        "\n",
        "#Функция для добавления отзывов\n",
        "def assessment(dictionary, courses):\n",
        "  print('Введите оценку пары:')\n",
        "  estimations=int(input())\n",
        "  dictionary[courses]['estimation'].append(estimations)\n",
        "  print('А теперь ваш отзыв')\n",
        "  comments=input()\n",
        "  if comments=='' or comments==' ':\n",
        "    dictionary[courses]['comment'].append('Отзыв отсутствует')\n",
        "  else:\n",
        "    dictionary[courses]['comment'].append(comments)\n",
        "  return ''\n",
        "\n",
        "\n",
        "#Отслеживание всех оценок и соответствующих отзывов для заданного предмета\n",
        "def tracking(dictionary, courses):\n",
        "  a=dictionary[courses]['comment']\n",
        "  b=dictionary[courses]['estimation']\n",
        "  if len(b)==0:\n",
        "    print('Этому предмету вы не оставили ещё ни одного отзыва. Самое время сделать это сейчас!')\n",
        "    return ''\n",
        "  else:\n",
        "    for i in range(0, len(b)):\n",
        "      print(i+1, '.', a[i], b[i])\n",
        "    return ''\n",
        "\n",
        "\n",
        "#Удаление отзыва по его номеру\n",
        "def removal(dictionary, courses):\n",
        "  print('Введите порядковый номер удаляемого отзыва.')\n",
        "  a=int(input())\n",
        "  if a>len(dictionary[courses]['comment']):\n",
        "    return print('Такого отзыва не существует, проверьте правильно ли вы ввели порядковый номер.')\n",
        "  else:\n",
        "    dictionary[courses]['comment'][a-1]='Отзыв отсутствует'\n",
        "    return ''\n",
        "\n",
        "\n",
        "#Средний балл\n",
        "def average_score(dictionary, courses):\n",
        "  c=0\n",
        "  s=0\n",
        "  for v in dictionary[courses]['estimation']:\n",
        "    c+=1\n",
        "    s+=v\n",
        "  print('Текущий средниу балл:', s/c)\n",
        "  return ''\n",
        "\n",
        "\n",
        "courses='Math'\n",
        "print(tracking(dictionary, courses))\n",
        "print(len(dictionary[courses]['comment']))\n",
        "print(removal(dictionary, courses))\n",
        "print(tracking(dictionary, courses))\n",
        "print(removal(dictionary, courses))\n",
        "print(courses in dictionary)\n",
        "\n",
        "print('Выберите одну из функций системы отзывов и оценок:')\n",
        "print('Дать оценку предмету')\n",
        "print('Отследить оценки')\n",
        "print('Удалить отзыв')\n",
        "print('Вывести средний балл')\n",
        "print('Если хотите прекратить работу, напишите:\"Стоп\"')\n",
        "a=input()\n",
        "while a!='Стоп':\n",
        "  if a=='Дать оценку предмету':\n",
        "    print('Для какого предмета?')\n",
        "    courses=input()\n",
        "    if courses in dictionary:\n",
        "      assessment(dictionary, courses)\n",
        "    else:\n",
        "      print('Такого предмета нет')\n",
        "  elif a=='Отследить оценки':\n",
        "    print('Для какого предмета?')\n",
        "    courses=input()\n",
        "    if courses in dictionary:\n",
        "      tracking(dictionary, courses)\n",
        "    else:\n",
        "      print('Такого предмета нет')\n",
        "  elif a=='Удалить отзыв':\n",
        "    print('Для какого предмета?')\n",
        "    courses=input()\n",
        "    if courses in dictionary:\n",
        "      removal(dictionary, courses)\n",
        "    else:\n",
        "      print('Такого предмета нет')\n",
        "  elif a=='Вывести средний балл':\n",
        "    print('Для какого предмета?')\n",
        "    courses=input()\n",
        "    if courses in dictionary:\n",
        "      average_score(dictionary, courses)\n",
        "    else:\n",
        "      print('Такого предмета нет')\n",
        "  print('Теперь что?')\n",
        "  print('Дать оценку предмету')\n",
        "  print('Отследить оценки')\n",
        "  print('Удалить отзыв')\n",
        "  print('Вывести средний балл')\n",
        "  print('Стоп')\n",
        "  a=input()"
      ],
      "metadata": {
        "colab": {
          "base_uri": "https://localhost:8080/"
        },
        "id": "1yY7TKy2enNI",
        "outputId": "6d688669-485a-4f9a-cc7a-2dc518ed2a78"
      },
      "execution_count": null,
      "outputs": [
        {
          "name": "stdout",
          "output_type": "stream",
          "text": [
            "1 . Good! 5\n",
            "2 . Bad. 4\n",
            "\n",
            "2\n",
            "Введите порядковый номер удаляемого отзыва.\n",
            "2\n",
            "\n",
            "1 . Good! 5\n",
            "2 . Отзыв отсутствует 4\n",
            "\n",
            "Введите порядковый номер удаляемого отзыва.\n",
            "2\n",
            "\n",
            "True\n",
            "Выберите одну из функций системы отзывов и оценок:\n",
            "Дать оценку предмету\n",
            "Отследить оценки\n",
            "Удалить отзыв\n",
            "Вывести средний балл\n",
            "Если хотите прекратить работу, напишите:\"Стоп\"\n",
            "Дать оценку предмету\n",
            "Для какого предмета?\n",
            "Math\n",
            "Введите оценку пары:\n",
            "5\n",
            "А теперь ваш отзыв\n",
            "Happy\n",
            "Теперь что?\n",
            "Дать оценку предмету\n",
            "Отследить оценки\n",
            "Удалить отзыв\n",
            "Вывести средний балл\n",
            "Стоп\n",
            "Стоп\n"
          ]
        }
      ]
    }
  ]
}