{
  "cells": [
    {
      "cell_type": "markdown",
      "metadata": {
        "id": "view-in-github",
        "colab_type": "text"
      },
      "source": [
        "<a href=\"https://colab.research.google.com/github/relladonna/-2.0/blob/main/%D0%9A%D0%BE%D0%BF%D0%B8%D1%8F_%D0%B1%D0%BB%D0%BE%D0%BA%D0%BD%D0%BE%D1%82%D0%B0_%22%D0%9F%D1%80%D0%B0%D0%BA%D1%82%D0%B8%D0%BA%D0%B0_0_4_0_ipynb%22.ipynb\" target=\"_parent\"><img src=\"https://colab.research.google.com/assets/colab-badge.svg\" alt=\"Open In Colab\"/></a>"
      ]
    },
    {
      "cell_type": "markdown",
      "metadata": {
        "id": "k8oVfdwrMXyc"
      },
      "source": [
        "Введите ваше ФИО:"
      ]
    },
    {
      "cell_type": "code",
      "execution_count": null,
      "metadata": {
        "id": "5mcBLsKMI1-5"
      },
      "outputs": [],
      "source": [
        "Мосина Вероника Григорьевна"
      ]
    },
    {
      "cell_type": "markdown",
      "metadata": {
        "id": "8HbYUbm3Jw3o"
      },
      "source": [
        "***Дисклеймер***\n",
        "\n",
        "В данной практике запрещено использования функций:\n",
        "\n",
        "\n",
        "*   sum()\n",
        "*   min()\n",
        "*   max()\n",
        "*   average()\n",
        "*   reversed()\n",
        "*   sorted()\n",
        "*   готовые функции или библиотеки\n"
      ]
    },
    {
      "cell_type": "markdown",
      "metadata": {
        "id": "HmX0c6YPJSQr"
      },
      "source": [
        "\n",
        "**Задача 1:**\n",
        "\n",
        "\n",
        "\n",
        "Интернет-магазин предлагает следующие условия скидок:\n",
        "\n",
        "*   Для заказов больше 1000 единиц, клиент получает скидку 5%. Если клиент использует промокод SUPERDISCOUNT, он получает скидку 10% (вместо 5%).\n",
        "*  Для заказов более 5000 единиц, клиент получает скидку 15%, а использование промокода SUPERDISCOUNT увеличивает скидку до 20% (вместо 15%).\n",
        "\n",
        "Этап 1:\n",
        "Ввод:\n",
        "```\n",
        "Введите стоимость единицы товара: 5\n",
        "Введите количество товара: 1001\n",
        "Введите промокод: GiVEMEDISCONT\n",
        "```\n",
        "\n",
        "Вывод:\n",
        "\n",
        "```\n",
        "Ваша скидка: 5%\n",
        "Итоговая сумма: 4754.75\n",
        "```\n",
        "Этап 2:\n",
        "\n",
        "Оформите ваш код в виде функции"
      ]
    },
    {
      "cell_type": "code",
      "execution_count": null,
      "metadata": {
        "colab": {
          "base_uri": "https://localhost:8080/"
        },
        "id": "OAIMIpklMN5D",
        "outputId": "625f5c08-ddc9-45cb-9665-4113ece280bd"
      },
      "outputs": [
        {
          "name": "stdout",
          "output_type": "stream",
          "text": [
            "Введите стоимость единицы товара:\n",
            "5\n",
            "Введите количество товара:\n",
            "1001\n",
            "Введите промокод:\n",
            "k\n",
            "Ваша скидка: 5 %\n",
            "Итоговая сумма: 4754.75\n",
            "\n"
          ]
        }
      ],
      "source": [
        "def sc(cost, quanity, promo_code):\n",
        "  if 1000<quanity<=5000:\n",
        "    discount=5\n",
        "    if promo_code=='SUPERDISCOUNT':\n",
        "      discount=10\n",
        "  elif quanity>5000:\n",
        "    discount=15\n",
        "    if promo_code=='SUPERDISCOUNT':\n",
        "      discount=20\n",
        "  else:\n",
        "    discount=0\n",
        "  summa=(cost*quanity)*((100-discount)*0.01)\n",
        "  print('Ваша скидка:', discount, '%')\n",
        "  print('Итоговая сумма:', summa)\n",
        "  return ''\n",
        "\n",
        "\n",
        "print('Введите стоимость единицы товара:')\n",
        "st=int(input())\n",
        "print('Введите количество товара:')\n",
        "k=int(input())\n",
        "print('Введите промокод:')\n",
        "pr=input()\n",
        "print(sc(st, k, pr))"
      ]
    },
    {
      "cell_type": "markdown",
      "metadata": {
        "id": "eeRVWpuLNGJ0"
      },
      "source": [
        "**Задача 2:**\n",
        "\n",
        "Этап 1:\n",
        "Напишите программу способную отфильтровать список и вывести только положительные элементы\n",
        "\n",
        "\n",
        "Ввод:\n",
        "```\n",
        "-1 5 1 2 -3\n",
        "```\n",
        "\n",
        "Вывод:\n",
        "\n",
        "```\n",
        "5 1 2\n",
        "```\n",
        "\n",
        "Этап 2:\n",
        "\n",
        "Оформите ваш код в виде функции"
      ]
    },
    {
      "cell_type": "code",
      "execution_count": null,
      "metadata": {
        "colab": {
          "base_uri": "https://localhost:8080/"
        },
        "id": "Xbi6bL0WOE9N",
        "outputId": "fbd55f8b-26f2-4e4c-c2c7-b3b261c7970f"
      },
      "outputs": [
        {
          "name": "stdout",
          "output_type": "stream",
          "text": [
            "-1 5 1 2 -3\n",
            "5 1 2\n"
          ]
        }
      ],
      "source": [
        "def positive(string):\n",
        "  s=string.split()\n",
        "  s2=list()\n",
        "  for i in s:\n",
        "    if int(i)>0:\n",
        "      s2.append(i)\n",
        "  return ' '.join(s2)\n",
        "\n",
        "\n",
        "print('Введите ряд чисел')\n",
        "a=input()\n",
        "print(positive(a))"
      ]
    },
    {
      "cell_type": "markdown",
      "metadata": {
        "id": "lV-w6G-POa6F"
      },
      "source": [
        "**Задача 3:**\n",
        "\n",
        "Этап 1:\n",
        "Напишите программу реализующую Алгоритм Евклида\n",
        "\n",
        "\n",
        "> Алгоритм Евклида – это алгоритм нахождения наибольшего общего делителя (НОД) пары целых чисел.\n",
        "\n",
        "\n",
        "\n",
        "Ввод:\n",
        "```\n",
        "30 18\n",
        "```\n",
        "\n",
        "Вывод:\n",
        "\n",
        "```\n",
        "6\n",
        "```\n",
        "\n",
        "Этап 2:\n",
        "Оформите ваш код в виде функции\n"
      ]
    },
    {
      "cell_type": "code",
      "execution_count": null,
      "metadata": {
        "colab": {
          "base_uri": "https://localhost:8080/"
        },
        "id": "X2n6fnd91yt7",
        "outputId": "93aae7f7-e374-4053-968f-c1c8fad5bb86"
      },
      "outputs": [
        {
          "name": "stdout",
          "output_type": "stream",
          "text": [
            "Введите пару чисел\n",
            "28 16\n",
            "4\n"
          ]
        }
      ],
      "source": [
        "def nod(a):\n",
        "  s=a.split()\n",
        "  if int(s[0])>int(s[1]):\n",
        "    for i in range(int(s[0]), 1, -1):\n",
        "      if int(s[0])%i==0 and int(s[1])%i==0:\n",
        "        return i\n",
        "  else:\n",
        "    for i in range(int(s[1]), 1, -1):\n",
        "      if int(s[0])%i==0 and int(s[1])%i==0:\n",
        "        return i\n",
        "\n",
        "\n",
        "print('Введите пару чисел')\n",
        "a=input()\n",
        "print(nod(a))"
      ]
    },
    {
      "cell_type": "code",
      "execution_count": null,
      "metadata": {
        "id": "43Dl5tIpOZsu"
      },
      "outputs": [],
      "source": [
        "\n"
      ]
    },
    {
      "cell_type": "markdown",
      "metadata": {
        "id": "WIfPFxpsO0zL"
      },
      "source": [
        "**Задача 4:**\n",
        "\n",
        "Этап 1:\n",
        "Напишите функцию программу, которая принимает строку и возвращает список слов и количество их упомнинаний в предложении\n",
        "\n",
        "Этап 2:\n",
        "Оформите ваш код в виде функции\n",
        "\n",
        "Ввод:\n",
        "```\n",
        "apple banana apple\n",
        "```\n",
        "\n",
        "Вывод:\n",
        "\n",
        "```\n",
        "apple: 2,\n",
        "banana: 1\n",
        "```"
      ]
    },
    {
      "cell_type": "code",
      "execution_count": null,
      "metadata": {
        "colab": {
          "base_uri": "https://localhost:8080/"
        },
        "id": "DgsmFeW5Po_x",
        "outputId": "e4b20696-a3e5-434b-c34f-834ccff2ab6e"
      },
      "outputs": [
        {
          "name": "stdout",
          "output_type": "stream",
          "text": [
            "Введите строку слов\n",
            "apple banana apple\n",
            "apple : 2\n",
            "banana : 1\n",
            " \n"
          ]
        }
      ],
      "source": [
        "def k(a):\n",
        "  s=a.split()\n",
        "  s2=list()\n",
        "  s3=list()\n",
        "  for i in s:\n",
        "    if i not in s2:\n",
        "      s2.append(i)\n",
        "  for c in s2:\n",
        "    g=0\n",
        "    for b in s:\n",
        "      if c==b:\n",
        "        g+=1\n",
        "    print(c, ':', g)\n",
        "  return ' '\n",
        "\n",
        "\n",
        "print('Введите строку слов')\n",
        "a=input()\n",
        "print(k(a))"
      ]
    },
    {
      "cell_type": "markdown",
      "metadata": {
        "id": "5BmIJLUZP9I-"
      },
      "source": [
        "**Задача 5:**\n",
        "\n",
        "Этап 1:\n",
        "Детектор анаграмм Напишите программу на Python, которая принимает в качестве входных данных две строки и проверяет, являются ли они анаграммами друг друга\n",
        "\n",
        "Этап 2:\n",
        "Оформите ваш код в виде функции\n",
        "\n",
        "Ввод:\n",
        "```\n",
        "listen, silent\n",
        "```\n",
        "\n",
        "Вывод:\n",
        "\n",
        "```\n",
        "True\n",
        "```"
      ]
    },
    {
      "cell_type": "code",
      "execution_count": null,
      "metadata": {
        "colab": {
          "base_uri": "https://localhost:8080/"
        },
        "id": "7LNW8DuHQJwH",
        "outputId": "0020b37d-cfd0-49b2-e73a-882b05c8c439"
      },
      "outputs": [
        {
          "name": "stdout",
          "output_type": "stream",
          "text": [
            "Введите первую строку\n",
            "listen\n",
            "Введите вторую строку\n",
            "silent\n",
            "True\n"
          ]
        }
      ],
      "source": [
        "def anagram(a, b):\n",
        "  for v in a:\n",
        "    for n in b:\n",
        "      if (v not in b) or (n not in a):\n",
        "        return False\n",
        "  return True\n",
        "\n",
        "\n",
        "print('Введите первую строку')\n",
        "a=input()\n",
        "print('Введите вторую строку')\n",
        "b=input()\n",
        "print(anagram(a, b))"
      ]
    },
    {
      "cell_type": "markdown",
      "metadata": {
        "id": "-SIWYSq2QKBh"
      },
      "source": [
        "**Задача 6:**\n",
        "\n",
        "Шифр ​​Цезаря\n",
        "\n",
        "Напишите программу на Python, которая реализует шифр Цезаря, простой метод шифрования, который заменяет каждую букву буквой на фиксированное количество позиций вниз по алфавиту. Программа должна запрашивать у пользователя сообщение и значение сдвига, а затем шифровать и расшифровывать сообщение.\n",
        "\n",
        "Этап 1:\n",
        "\n",
        "Напишите код для реализации данной задачи\n",
        "\n",
        "Этап 2:\n",
        "\n",
        "Оформите код в виде нескольких функций:\n",
        "\n",
        "* Зашифровывает сообщение\n",
        "* Расшифровывает сообщение"
      ]
    },
    {
      "cell_type": "code",
      "execution_count": null,
      "metadata": {
        "colab": {
          "base_uri": "https://localhost:8080/"
        },
        "id": "anThYirsQe6N",
        "outputId": "7db098e2-0812-4bc7-f895-46938dd8e877"
      },
      "outputs": [
        {
          "name": "stdout",
          "output_type": "stream",
          "text": [
            "Зашифровать или расшифровать сообщение?\n",
            "у\n",
            "Какой сдвиг?\n",
            "1\n",
            "Какое сообщение расшифровать?\n",
            "Нёегёеэ об фцп обтуфрйм.\n",
            "Оедведь на ухо наступил.\n"
          ]
        }
      ],
      "source": [
        "def encrypt(shift, encrypt_string):\n",
        "  s0=encrypt_string.split(' ')\n",
        "  alphabet='абвгдеёжзийклмнопрстуфхцчшщъыьэюя'\n",
        "  alphabet=alphabet*5\n",
        "  Alphabet='АБВГДЕЁЖЗИЙКЛМНОПРСТУФХЦЧШЩЪЫЬЭЮЯ'\n",
        "  Alphabet=Alphabet*5\n",
        "  alphabet2=',.~`!\";:<>/?[]{}=+-_()*&^%$#@'\n",
        "  s=list()\n",
        "  s2=list()\n",
        "  for encrypt_word in s0:\n",
        "    for i in encrypt_word:\n",
        "      if i in alphabet:\n",
        "        a=alphabet.index(i)\n",
        "        s.append(alphabet[a+shift])\n",
        "      if i in Alphabet:\n",
        "        b=Alphabet.index(i)\n",
        "        s.append(Alphabet[b+shift])\n",
        "      if i in alphabet2:\n",
        "        s.append(i)\n",
        "    s2.append(''.join(s))\n",
        "    s=list()\n",
        "  return ' '.join(s2)\n",
        "\n",
        "\n",
        "def decrypt(shift, decrypt_string):\n",
        "  s0=decrypt_string.split(' ')\n",
        "  alphabet='яюэьыъщшчцхфутсрпонмлкйизжёедгвба'\n",
        "  alphabet=alphabet*5\n",
        "  Alphabet='ЯЮЭЬЫЪЩШЧЦХФУТСРПОНМЛКЙИЗЖЁЕДГВБА'\n",
        "  Alphabet=Alphabet*5\n",
        "  alphabet2=',.~`!\";:<>/?[]{}=+-_()*&^%$#@'\n",
        "  s=list()\n",
        "  s2=list()\n",
        "  for decrypt_string in s0:\n",
        "    for i in decrypt_string:\n",
        "      if i in alphabet:\n",
        "        a=alphabet.index(i)\n",
        "        s.append(alphabet[a+shift])\n",
        "      if i in Alphabet:\n",
        "        b=Alphabet.index(i)\n",
        "        s.append(Alphabet[b+shift])\n",
        "      if i in alphabet2:\n",
        "        s.append(i)\n",
        "    s2.append(''.join(s))\n",
        "    s=list()\n",
        "  return ' '.join(s2)\n",
        "\n",
        "print('Это программа, которая реализует шифр Цезаря на русском.')\n",
        "print('Зашифровать или расшифровать сообщение?')\n",
        "a=input()\n",
        "if a=='Зашифровать':\n",
        "  print('Какой сдвиг?')\n",
        "  shift=int(input())\n",
        "  print('Какое сообщение зашифровать?')\n",
        "  string=input()\n",
        "  print(encrypt(shift, string))\n",
        "else:\n",
        "  print('Какой сдвиг?')\n",
        "  shift=int(input())\n",
        "  print('Какое сообщение расшифровать?')\n",
        "  string=input()\n",
        "  print(decrypt(shift, string))"
      ]
    },
    {
      "cell_type": "markdown",
      "metadata": {
        "id": "avFZRRXrQz9O"
      },
      "source": [
        "**Задача 7**\n",
        "\n",
        "Задача: «Банковская система»\n",
        "\n",
        "Создайте программу Python, которая имитирует базовую банковскую систему. Система должна иметь следующие функции:\n",
        "\n",
        "Требования\n",
        "*   Система должна позволять клиентам создавать счета и хранить их балансы.\n",
        "*   Система должна позволять клиентам вносить и снимать деньги со своих счетов.\n",
        "*   Система должна позволять клиентам проверять свой текущий баланс.\n",
        "*   Система должна позволять клиентам переводить деньги между счетами.\n",
        "*   Система должна отслеживать транзакции (депозиты, снятия и переводы) и иметь возможность печатать детали транзакций.\n",
        "\n",
        "\n",
        "Задачи\n",
        "1. Реализуйте банковскую систему, используя только базовые конструкции Python, такие как def, lists, if, elif и else, без классов или словарей.\n",
        "Определите функции для создания счетов, внесения и снятия денег, получения балансов счетов, перевода денег между счетами, а также создания и печати транзакций.\n",
        "2. Напишите основную функцию, которая демонстрирует использование банковской системы путем создания счетов, внесения и снятия денег и перевода денег между счетами.\n",
        "3. Бонусное задание\n",
        "Реализуйте способ хранения и печати истории транзакций для каждого счета.\n",
        "\n",
        "Ограничения\n",
        "Не используйте классы или словари.\n",
        "Используйте только базовые конструкции Python, такие как def, lists, if, elif и else.\n"
      ]
    },
    {
      "cell_type": "code",
      "execution_count": null,
      "metadata": {
        "colab": {
          "background_save": true,
          "base_uri": "https://localhost:8080/"
        },
        "id": "dWEW10zIRwjs",
        "outputId": "316ef601-7a65-433a-d52e-bb248db730c4"
      },
      "outputs": [
        {
          "name": "stdout",
          "output_type": "stream",
          "text": [
            "Выберите одну из функций банка:\n",
            "Создать счёт\n",
            "Проверить текущий баланс\n",
            "Снять деньги\n",
            "Внести\n",
            "Перевести с одного счёта на другой\n",
            "Если хотите прекратить работу, напишите:\"Стоп\"\n",
            "[] []\n",
            "Дайте название счёту\n",
            "Выберите одну из функций банка:\n",
            "Создать счёт\n",
            "Проверить текущий баланс\n",
            "Снять деньги\n",
            "Внести\n",
            "Перевести с одного счёта на другой\n",
            "Стоп\n",
            "['абв'] [0]\n",
            "Дайте название счёту\n",
            "Выберите одну из функций банка:\n",
            "Создать счёт\n",
            "Проверить текущий баланс\n",
            "Снять деньги\n",
            "Внести\n",
            "Перевести с одного счёта на другой\n",
            "Стоп\n",
            "['абв', 'где'] [0, 0]\n",
            "На какой счёт внести?\n",
            "Сколько внести?\n",
            "Ваш текущий счёт: 5000\n",
            "Теперь что?\n",
            "Создать счёт\n",
            "Проверить текущий баланс\n",
            "Снять деньги\n",
            "Внести\n",
            "Перевести с одного счёта на другой\n",
            "Стоп\n",
            "С какого?\n",
            "На какой?\n",
            "Сколько перенести?\n",
            "У вас на счету \" абв \" 3500\n",
            "У вас на счету \" где \" 1500\n",
            "Теперь что?\n",
            "Создать счёт\n",
            "Проверить текущий баланс\n",
            "Снять деньги\n",
            "Внести\n",
            "Перевести с одного счёта на другой\n",
            "Стоп\n"
          ]
        }
      ],
      "source": [
        "print('Выберите одну из функций банка:')\n",
        "print('Создать счёт')\n",
        "print('Проверить текущий баланс')\n",
        "print('Снять')\n",
        "print('Внести')\n",
        "print('Перевести с одного счёта на другой')\n",
        "print('Если хотите прекратить работу, напишите:\"Стоп\"')\n",
        "s=list()\n",
        "s2=list()\n",
        "a=input()\n",
        "while a!='Стоп':\n",
        "  if a=='Создать счёт':\n",
        "    print('Дайте название счёту')\n",
        "    ch=input()\n",
        "    s.append(ch)\n",
        "    s2.append(0)\n",
        "  elif a=='Проверить текущий баланс':\n",
        "    print('Баланс какого счёта?')\n",
        "    b=input()\n",
        "    if b in s:\n",
        "      print(s2[s.index(b)])\n",
        "    else:\n",
        "      print('Такого счёта не существует')\n",
        "  elif a=='Снять':\n",
        "    print('С какого счёта снять деньги?')\n",
        "    b=input()\n",
        "    if b in s:\n",
        "      print('Сколько снять?')\n",
        "      v=int(input())\n",
        "      if s2[s.index(b)]<v:\n",
        "        print('Вы не можете столько снять')\n",
        "        print('На вашем текущем счету:', s2[s.index(b)])\n",
        "      else:\n",
        "        s2[s.index(b)]=s2[s.index(b)]-v\n",
        "        print('На вашем текущем счету:', s2[s.index(b)])\n",
        "  elif a=='Внести':\n",
        "    print('На какой счёт внести деньги?')\n",
        "    b=input()\n",
        "    if b in s:\n",
        "      print('Сколько внести?')\n",
        "      v=int(input())\n",
        "      s2[s.index(b)]=s2[s.index(b)]+v\n",
        "      print('На вашем текущем счету:', s2[s.index(b)])\n",
        "  elif a=='Перевести с одного счёта на другой':\n",
        "    print('С какого?')\n",
        "    b=input()\n",
        "    print('На какой?')\n",
        "    c=input()\n",
        "    if b in s:\n",
        "      if c in s:\n",
        "        print('Сколько перенести?')\n",
        "        v=int(input())\n",
        "        if s2[s.index(b)]<v:\n",
        "          print('Вы не можете столько перенести')\n",
        "        else:\n",
        "          s2[s.index(b)]=s2[s.index(b)]-v\n",
        "          s2[s.index(с)]=s2[s.index(с)]+v\n",
        "          print('У вас на счету', '\"', b, '\"', s2[s.index(b)])\n",
        "          print('У вас на счету', '\"', c, '\"', s2[s.index(c)])\n",
        "  print('Теперь что?')\n",
        "  print('Создать счёт')\n",
        "  print('Проверить текущий баланс')\n",
        "  print('Снять деньги')\n",
        "  print('Внести')\n",
        "  print('Перевести с одного счёта на другой')\n",
        "  print('Стоп')\n",
        "  a=input()"
      ]
    }
  ],
  "metadata": {
    "colab": {
      "provenance": [],
      "include_colab_link": true
    },
    "kernelspec": {
      "display_name": "Python 3",
      "name": "python3"
    },
    "language_info": {
      "name": "python"
    }
  },
  "nbformat": 4,
  "nbformat_minor": 0
}