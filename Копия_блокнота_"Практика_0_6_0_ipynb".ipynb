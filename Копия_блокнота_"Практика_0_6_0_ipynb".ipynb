{
  "nbformat": 4,
  "nbformat_minor": 0,
  "metadata": {
    "colab": {
      "provenance": [],
      "include_colab_link": true
    },
    "kernelspec": {
      "name": "python3",
      "display_name": "Python 3"
    },
    "language_info": {
      "name": "python"
    }
  },
  "cells": [
    {
      "cell_type": "markdown",
      "metadata": {
        "id": "view-in-github",
        "colab_type": "text"
      },
      "source": [
        "<a href=\"https://colab.research.google.com/github/relladonna/-2.0/blob/main/%D0%9A%D0%BE%D0%BF%D0%B8%D1%8F_%D0%B1%D0%BB%D0%BE%D0%BA%D0%BD%D0%BE%D1%82%D0%B0_%22%D0%9F%D1%80%D0%B0%D0%BA%D1%82%D0%B8%D0%BA%D0%B0_0_6_0_ipynb%22.ipynb\" target=\"_parent\"><img src=\"https://colab.research.google.com/assets/colab-badge.svg\" alt=\"Open In Colab\"/></a>"
      ]
    },
    {
      "cell_type": "markdown",
      "source": [
        "\n",
        "\n",
        "---\n",
        "\n"
      ],
      "metadata": {
        "id": "tKNG_RzWxG6g"
      }
    },
    {
      "cell_type": "markdown",
      "source": [
        "# **Дисклеймер**\n",
        "\n",
        "В данной практике будет введен дополнительный критерий: чистота и читаемость кода, а также соблюдение правил описанных в начале практики"
      ],
      "metadata": {
        "id": "cFcrKfclKWh0"
      }
    },
    {
      "cell_type": "markdown",
      "source": [
        "\n",
        "\n",
        "---\n",
        "\n"
      ],
      "metadata": {
        "id": "0SnE87X1xDlV"
      }
    },
    {
      "cell_type": "markdown",
      "source": [
        "Мосина Вероника Григорьевна"
      ],
      "metadata": {
        "id": "SlwJBBJVEoch"
      }
    },
    {
      "cell_type": "markdown",
      "source": [
        "# Задание 1\n",
        "\n",
        "**Задача:**\n",
        "\n",
        "Напишите функцию очищающий список от дубликтов\n",
        "\n",
        "\n",
        "*Запрещено:*\n",
        "\n",
        "*   Использовать set() или готовые функции очищающие список от дубликатов\n",
        "\n",
        "Вввод:\n",
        "\n",
        "```\n",
        "apple banana apple 1 3 4 4 5\n",
        "```\n",
        "\n",
        "\n",
        "Вывод:\n",
        "\n",
        "```\n",
        "apple banana 1 3 4 5\n",
        "```\n",
        "\n"
      ],
      "metadata": {
        "id": "VxawR9NubT_F"
      }
    },
    {
      "cell_type": "code",
      "source": [
        "def remove_duplicate(s):\n",
        "  s = s.split(' ')\n",
        "  s2 = list()\n",
        "  for i in s:\n",
        "    if not(i in s2):\n",
        "      s2.append(i)\n",
        "  return ' '.join(s2)\n",
        "\n",
        "s = input()\n",
        "print(remove_duplicate(s))"
      ],
      "metadata": {
        "id": "ml5gnbPXbeju",
        "colab": {
          "base_uri": "https://localhost:8080/"
        },
        "outputId": "22ec5a9e-8f46-42b9-f764-ea11dc595b30"
      },
      "execution_count": null,
      "outputs": [
        {
          "output_type": "stream",
          "name": "stdout",
          "text": [
            "apple banana apple 1 3 4 4 5\n",
            "apple banana 1 3 4 5\n"
          ]
        }
      ]
    },
    {
      "cell_type": "markdown",
      "source": [
        "# Задание 2\n",
        "\n",
        "**Задача:**\n",
        "\n",
        "Написать функцию для нахождения простых чисел в диапазоне\n",
        "\n",
        "Ввод:\n",
        "\n",
        "```\n",
        "10, 50\n",
        "```\n",
        "\n",
        "Вывод:\n",
        "\n",
        "```\n",
        "11, 13, 17, 19, 23, 29, 31, 37, 41, 43, 47\n",
        "```"
      ],
      "metadata": {
        "id": "y05x0eD0cVCC"
      }
    },
    {
      "cell_type": "code",
      "source": [
        "def prime_numbers(first, last):\n",
        "  s = list()\n",
        "  for i in range(first, last + 1):\n",
        "    c = 0\n",
        "    for v in range(2, int(i**0.5) + 2):\n",
        "      if i % v == 0:\n",
        "        c += 1\n",
        "    if c == 0:\n",
        "      s.append(i)\n",
        "  return s\n",
        "\n",
        "print('Введите начальную границу')\n",
        "a = int(input())\n",
        "print('Введите крайнюю границу')\n",
        "b = int(input())\n",
        "print(prime_numbers(a, b))"
      ],
      "metadata": {
        "id": "XSMJnLgrc6Bf",
        "colab": {
          "base_uri": "https://localhost:8080/"
        },
        "outputId": "6f20e803-53a3-41de-bcd2-dfc780e6c08b"
      },
      "execution_count": null,
      "outputs": [
        {
          "output_type": "stream",
          "name": "stdout",
          "text": [
            "Введите начальную границу\n",
            "45\n",
            "Введите крайнюю границу\n",
            "85\n",
            "[47, 53, 59, 61, 67, 71, 73, 79, 83]\n"
          ]
        }
      ]
    },
    {
      "cell_type": "markdown",
      "source": [
        "# Задание 3\n",
        "\n",
        "Напишите функцию для объединения двух списков (список ключей и список значении) в словарь\n",
        "\n",
        "*Запрещено:*\n",
        "\n",
        "*   Использования готовых функции для объединения списков (пример: zip() )\n",
        "\n",
        "Дано:\n",
        "\n",
        "```\n",
        "keys = ['a', 'b', 'c', 'e' ]\n",
        "values = [1, 2, 3, 4]\n",
        "```\n",
        "\n",
        "Вывод:\n",
        "```\n",
        "{'a': 1, 'b': 2, 'c': 3, 'e': 4}\n",
        "```\n",
        "\n",
        "\n"
      ],
      "metadata": {
        "id": "vYM0LyxxdElN"
      }
    },
    {
      "cell_type": "code",
      "source": [
        "def dictionary(keys, values):\n",
        "  d = {}\n",
        "  for i in range(0, len(keys)):\n",
        "    d[keys[i]] = values[i]\n",
        "  return d\n",
        "\n",
        "keys = ['a', 'b', 'c', 'e' ]\n",
        "values = [1, 2, 3, 4]\n",
        "\n",
        "print(dictionary(keys, values))"
      ],
      "metadata": {
        "id": "CRvhHTjCdvjS",
        "colab": {
          "base_uri": "https://localhost:8080/"
        },
        "outputId": "4dd8a34b-0cee-4d75-bda2-9e751aa38760"
      },
      "execution_count": null,
      "outputs": [
        {
          "output_type": "stream",
          "name": "stdout",
          "text": [
            "{'a': 1, 'b': 2, 'c': 3, 'e': 4}\n"
          ]
        }
      ]
    },
    {
      "cell_type": "markdown",
      "source": [
        "# Задание 4\n",
        "\n",
        "Напишите функцию(ии) для подсчета статистических параметров:\n",
        "*   Сумму\n",
        "*   Среднее арифметическое\n",
        "*   Медиану\n",
        "*   Моду\n",
        "\n",
        "\n",
        "*Запрещено:*\n",
        "\n",
        "*   sum()\n",
        "*   sorted()\n",
        "*   и других функции предоставляющих готовое решение задания\n",
        "\n",
        "Дано:\n",
        "\n",
        "```\n",
        "numbers = [1, 2, 2, 3, 4, 5, 6, 7, 8 ,9 ,10]\n",
        "\n",
        "```\n",
        "\n",
        "Вывод:\n",
        "```\n",
        "{'mean': 5.181818181818182, 'median': 5, 'mode': 2, 'sum': 57}\n",
        "```\n"
      ],
      "metadata": {
        "id": "L_w8H8i-fQcP"
      }
    },
    {
      "cell_type": "code",
      "source": [],
      "metadata": {
        "colab": {
          "base_uri": "https://localhost:8080/"
        },
        "id": "1U0ZJWN1N7sJ",
        "outputId": "67ec8379-af83-46b8-e5ba-6b368e44eb48"
      },
      "execution_count": null,
      "outputs": [
        {
          "output_type": "stream",
          "name": "stdout",
          "text": [
            "3\n"
          ]
        }
      ]
    },
    {
      "cell_type": "code",
      "source": [
        "def amount(numbers):\n",
        "  s = 0\n",
        "  for i in numbers:\n",
        "    s += i\n",
        "  return s\n",
        "\n",
        "\n",
        "def average(numbers):\n",
        "  s = 0\n",
        "  k = 0\n",
        "  for i in numbers:\n",
        "    s += i\n",
        "    k += 1\n",
        "  return s / k\n",
        "\n",
        "\n",
        "def median(numbers):\n",
        "  k = 0\n",
        "  for i in numbers:\n",
        "    k += 1\n",
        "  a = k // 2\n",
        "  return numbers[a]\n",
        "\n",
        "\n",
        "def mode(numbers):\n",
        "  s1 = list()\n",
        "  s2 = list()\n",
        "  for i in numbers:\n",
        "    if not(i in s1):\n",
        "      s1.append(i)\n",
        "  for c in s1:\n",
        "    g = 0\n",
        "    for b in numbers:\n",
        "      if c == b:\n",
        "        g+=1\n",
        "    s2.append(g)\n",
        "  j = s2.index(max(s2))\n",
        "  return s1[j]\n",
        "\n",
        "\n",
        "def dictionary(keys, values):\n",
        "  d = {}\n",
        "  for i in range(0, len(keys)):\n",
        "    d[keys[i]] = values[i]\n",
        "  return d\n",
        "\n",
        "numbers = [1, 2, 2, 3, 4, 5, 6, 7, 8 ,9 ,10]\n",
        "keys = ['mean', 'median', 'mode', 'sum']\n",
        "values = [average(numbers), median(numbers), mode(numbers), amount(numbers)]\n",
        "print(dictionary(keys, values))"
      ],
      "metadata": {
        "id": "dW6jW_rjfuba",
        "colab": {
          "base_uri": "https://localhost:8080/"
        },
        "outputId": "5586583e-b408-4a2f-cb7f-494bc284a144"
      },
      "execution_count": null,
      "outputs": [
        {
          "output_type": "stream",
          "name": "stdout",
          "text": [
            "{'mean': 5.181818181818182, 'median': 5, 'mode': 2, 'sum': 57}\n"
          ]
        }
      ]
    },
    {
      "cell_type": "markdown",
      "source": [
        "# Задание 5\n",
        "\n",
        "На ввод поступает строка символов. Строка состоит из слов, которые отделены друг от друга пробелами. Необходимо вывести самое длинное слово и его порядковый номер.\n",
        "\n",
        "*Запрещено:*\n",
        "\n",
        "*   len()\n",
        "\n",
        "Дано:\n",
        "\n",
        "```\n",
        "Страдание и боль всегда обязательны для широкого сознания и глубокого сердца.\n",
        "\n",
        "```\n",
        "\n",
        "Вывод:\n",
        "```\n",
        "Самое длинное слово с номером 5: обязательны\n",
        "```"
      ],
      "metadata": {
        "id": "hZW0NZ7SgTcp"
      }
    },
    {
      "cell_type": "code",
      "source": [
        "def longest_word(string):\n",
        "  string = string.split(' ')\n",
        "  mx = 0\n",
        "  ind = 0\n",
        "  for word in string:\n",
        "    k = 0\n",
        "    for letter in word:\n",
        "      k += 1\n",
        "    if k > mx:\n",
        "      mx = k\n",
        "      ind = string.index(word)+1\n",
        "  print('Самое длинное слово с номером', ind, ':', string[ind-1])\n",
        "  return ''\n",
        "\n",
        "string = input()\n",
        "print(longest_word(string))"
      ],
      "metadata": {
        "id": "rC5DpHHLsDYp",
        "colab": {
          "base_uri": "https://localhost:8080/"
        },
        "outputId": "b03b9cf9-a32b-4bee-e1ff-f096c766300d"
      },
      "execution_count": null,
      "outputs": [
        {
          "output_type": "stream",
          "name": "stdout",
          "text": [
            "Страдание и боль всегда обязательны для широкого сознания и глубокого сердца.\n",
            "Самое длинное слово с номером 5 : обязательны\n",
            "\n"
          ]
        }
      ]
    },
    {
      "cell_type": "markdown",
      "source": [
        "# Задание 6\n",
        "\n",
        "Напишите программу, для управления оценками студентов, со следующими функциями:\n",
        "\n",
        "* Добавление информации о студенте и его оценках.\n",
        "* Подсчет среднего балла студента.\n",
        "* Получение списка всех студентов с их средними баллами.\n",
        "* Поиск студента по имени и вывод его оценок и среднего балла.\n",
        "\n",
        "\n",
        "\n"
      ],
      "metadata": {
        "id": "k5BzJW5ZeaQN"
      }
    },
    {
      "cell_type": "code",
      "source": [
        "dictionary = {\"Victor\": {\"evaluations\": [5, 4, 3], \"average\": 4},\n",
        "              \"Olya\": {\"evaluations\": [5, 4, 3], \"average\": 4}}\n",
        "\n",
        "#Считает средний балл\n",
        "def average(numbers):\n",
        "  s = 0\n",
        "  k = 0\n",
        "  for i in numbers:\n",
        "    s += i\n",
        "    k += 1\n",
        "  return s / k\n",
        "\n",
        "\n",
        "#Добавляет ученика и его оценки, автоматически считает средний балл\n",
        "def add_information(name, evaluations):\n",
        "  d = {}\n",
        "  d[\"evaluations\"] = evaluations\n",
        "  d[\"average\"] = average(evaluations)\n",
        "  dictionary[name] = d\n",
        "  return dictionary\n",
        "\n",
        "\n",
        "#Показывает всю известную информацию о заданном студенте\n",
        "def output_information(name):\n",
        "  print(name, ':', dictionary[name])\n",
        "  return ''\n",
        "\n",
        "\n",
        "#Показывает средний балл всех студентов\n",
        "def average_student_scores(dictionary):\n",
        "  for k in dictionary:\n",
        "    print(k, dictionary[k][\"average\"])\n",
        "  return ''\n",
        "\n",
        "\n",
        "#Позволяет добавить оценки\n",
        "def add_scores(name, evaluations):\n",
        "  dictionary[name][\"evaluations\"].extend(evaluations)\n",
        "  a = dictionary[name][\"evaluations\"]\n",
        "  dictionary[name][\"average\"]=average(a)\n",
        "  return ''\n",
        "\n",
        "\n",
        "#Превращает строку оценок в список\n",
        "def converting_list(numbers):\n",
        "  numbers = numbers.split(' ')\n",
        "  s=[]\n",
        "  for i in numbers:\n",
        "    s.append(int(i))\n",
        "  return s\n",
        "\n",
        "print(\"Какой функцией вы хотите воспользоваться: \\n \\\n",
        "      Добавить студента \\n \\\n",
        "      Добавить оценки \\n \\\n",
        "      Посмотреть средние баллы учащихся \\n \\\n",
        "      Получить информацию о студенте\")\n",
        "\n",
        "a = input()\n",
        "while a != 'Прекратить работу':\n",
        "  if a == 'Добавить студента':\n",
        "    print('Введите имя студента')\n",
        "    name = input()\n",
        "\n",
        "    print('Введите его оценки, через пробел')\n",
        "    numbers = input()\n",
        "    evaluations = converting_list(numbers)\n",
        "\n",
        "    add_information(name, evaluations)\n",
        "    print('Информация успешно добавлена!')\n",
        "\n",
        "  elif a == 'Добавить оценки':\n",
        "    print('Для кого добавить оценки?')\n",
        "    name = input()\n",
        "\n",
        "    print('Введите его оценки, через пробел')\n",
        "    numbers = input()\n",
        "    evaluations = converting_list(numbers)\n",
        "\n",
        "    add_scores(name, evaluations)\n",
        "\n",
        "  elif a == 'Посмотреть средние баллы учащихся':\n",
        "    average_student_scores(dictionary)\n",
        "\n",
        "  elif a == 'Получить информацию о студенте':\n",
        "    print('Введите имя студента')\n",
        "    name = input()\n",
        "\n",
        "    output_information(name)\n",
        "\n",
        "  else:\n",
        "    print('Возможно вы неправильно ввели запрос')\n",
        "\n",
        "  print(\"Какой функцией вы хотите воспользоваться: \\n \\\n",
        "      Добавить студента \\n \\\n",
        "      Добавить оценки \\n \\\n",
        "      Посмотреть средние баллы учащихся \\n \\\n",
        "      Получить информацию о студенте \\n \\\n",
        "      Прекратить работу\")\n",
        "  a = input()"
      ],
      "metadata": {
        "id": "cvhlltVbdyoL"
      },
      "execution_count": null,
      "outputs": []
    },
    {
      "cell_type": "markdown",
      "source": [
        "# Задание 7\n",
        "\n",
        "\n",
        "**Задача:**\n",
        "\n",
        "Создайте приложение-викторину с командной строкой, которое задает пользователям вопросы по различным темам и отслеживает их результаты.\n",
        "\n",
        "Ключевые особенности:\n",
        "\n",
        "*   Хранение данных о вопросах и ответах на них, а также баллов за каждый вопрос\n",
        "*   Реализуйте функцию для представления вопросов, принятия ответов пользователей и предоставления обратной связи о том, являются ли ответы правильными или неправильными.\n",
        "*  После завершения викторины отобразите общий балл пользователя из числа ответов на вопросы.\n",
        "*  Реализуйте функцию добавления нового вопроса\n",
        "*  Реализуйте функцию перемешивания вопросов, для отображения случайного вопроса\n"
      ],
      "metadata": {
        "id": "iQ8Z-7PYgu1_"
      }
    },
    {
      "cell_type": "code",
      "source": [
        "import random\n",
        "\n",
        "\n",
        "dictionary = {'Химия':{10:{'Вещество в крови, переносящее кислород.': 'Гемоглобин'},\n",
        "                       20:{'Каким веществом «обжигает» крапива?': 'Муравьиная кислота'},\n",
        "                       30:{'Это правда, что никотиновая кислота является витамином?':'Да'},\n",
        "                       40:{'Какое химическое соединение можно загасить водой?':'Известь'},\n",
        "                       50:{'Этот химический термин- один из самых распространенных.\\n \\\n",
        "В переводе на русский он означает «сильный, здоровый» Назовите термин.':'Валентность'}},\n",
        "              'Математика':{10: {'Как ещё называют кубический дециметр?': 'Литр'},\n",
        "                            20: {'Что больше: метр или ярд?': 'Метр'},\n",
        "                            30: {'Каким словом римляне называли преподавателя арифметики, а мы называем прибор?':'Калькулятор'},\n",
        "                            40: {'Назовите границу между бесконечностью целого и бесконечностью дробного.':'Единица'},\n",
        "                            50: {'Датой рождения механической счетной машины считают 1642 год,\\n \\\n",
        "когда известный французский ученый создал «арифметическую машину», умевшую складывать и вычитать.\\n \\\n",
        "Вспомните его имя.':'Блез Паскаль'}},\n",
        "              'Биология':{10: {'Не рыба, а птица, но крылья в чешуе.':'Пингвин'},\n",
        "                          20: {'Их равное количество у геометрического тела - куба и в теле человека. Сколько их?':'12 ребер'},\n",
        "                          30: {'Если «био» означает «живой», то что значит «вирус»?':'Яд'},\n",
        "                          40: {'Из всех земных существ пройти «тест зеркала» то есть распознать самого себя, способны только человек, орангутанг, шимпанзе и …\\n \\\n",
        "Кто еще?':'Дельфин'},\n",
        "                          50: {'Какая птица является символом педагогики, так как в голодное время она кормит своих птенцов, выклевывая у себя мясо?':'Пеликан'}},\n",
        "              'История':{10: {'Первый российский император.':'Петр 1'},\n",
        "                         20: {'Он спал 33 года, а потом проснулся и даже угодил на знаменитую картину В.М.Васнецова. Кто это?':'Илья Муромец'},\n",
        "                         30: {'Раньше там жили индейцы, а сейчас это самая густонаселенная испаноязычная страна мира. Какая?':'Мексика'},\n",
        "                         40: {'За всю историю существования Военного ордена Победоносца Георгия, полных его кавалеров было четверо.\\n \\\n",
        "Все они фельдмаршалы:  М.Б. Барклай-де-Толли, И.Ф. Паскевич- Эриванский, И.И.Дибич-Забалканский и …Кто еще?':'Кутузов'},\n",
        "                         50: {'Последний год Первой мировой войны положил начало еще одной общеевропейской трагедии,\\n \\\n",
        "приведшей к гибели почти в пять раз большего количества людей, чем в годы самой войны. Что это было? ':'Испанка'}},\n",
        "              'География':{10: {'Эта страна, наряду с Италией, традиционно считается главной винодельческой страной мира.\\n \\\n",
        "Вино, шампанское, сахар, зерно, молочные продукты экспортируются во многие страны мира.':'Франция'},\n",
        "                           20: {'Все живое, попадая в это озеро на Сицилии, погибает, поэтому ему дали соответствующее название. Какое?':'Смерть'},\n",
        "                           30: {'Что означает поднятый флаг над Букингемским дворцом в Лондоне?':'Королева находится дома'},\n",
        "                           40: {'Щит на гербе Австралии держат два местных животных- справа кенгуру, слева… А кто слева?':'Страус эму'},\n",
        "                           50: {'Когда он разливается, то вода становится сначала зеленой,\\n \\\n",
        "а затем красной, а земля, по которой он протекает, получила у местных жителей название «Черная». О чем речь?':'О реке Нил'}}}\n",
        "\n",
        "\n",
        "dictionary2 = {'Химия':{10: '+', 20:'+', 30:'+', 40:'+', 50:'+'},\n",
        "              'Математика':{10: '+', 20:'+', 30:'+', 40:'+', 50:'+'},\n",
        "              'Биология':{10: '+', 20:'+', 30:'+', 40:'+', 50:'+'},\n",
        "              'История':{10: '+', 20:'+', 30:'+', 40:'+', 50:'+'},\n",
        "              'География':{10: '+', 20:'+', 30:'+', 40:'+', 50:'+'},}\n",
        "\n",
        "\n",
        "dictionary3 = {'Химия':{10: '+', 20:'+', 30:'+', 40:'+', 50:'+'},\n",
        "              'Математика':{10: '+', 20:'+', 30:'+', 40:'+', 50:'+'},\n",
        "              'Биология':{10: '+', 20:'+', 30:'+', 40:'+', 50:'+'},\n",
        "              'История':{10: '+', 20:'+', 30:'+', 40:'+', 50:'+'},\n",
        "              'География':{10: '+', 20:'+', 30:'+', 40:'+', 50:'+'},}\n",
        "\n",
        "\n",
        "#Даёт вопрос; запрашивает ответ; говорит верный ответ; отмечает, что на этот вопрос ответили\n",
        "def question_selection(objects, point):\n",
        "  if '-' in dictionary2[objects][point]:\n",
        "    print('Вы уже открывали этот вопрос.')\n",
        "    return 0\n",
        "\n",
        "  else:\n",
        "    for k in dictionary[objects][point].keys():\n",
        "      print(k)\n",
        "\n",
        "    answer = input()\n",
        "    if answer in dictionary[objects][point].values():\n",
        "      print('Верно!')\n",
        "      dictionary2[objects][point]='-'\n",
        "      return point\n",
        "\n",
        "    else:\n",
        "      for v in dictionary[objects][point].values():\n",
        "        dictionary2[objects][point]='-'\n",
        "        print('Это не так. Правильный ответ:', v)\n",
        "        return 0\n",
        "\n",
        "\n",
        "#Добавляет категорию в викторину\n",
        "def add_category(category, point):\n",
        "  dictionary[category] = {point: '+'}\n",
        "  dictionary2[category] = {point: '+'}\n",
        "  dictionary3[category] = {point: '+'}\n",
        "  return ''\n",
        "\n",
        "\n",
        "#Добавляет вопрос\n",
        "def add_question(category, point):\n",
        "  print('Какой вопрос добавим?')\n",
        "  question = input()\n",
        "\n",
        "  print('Какой на него ответ?')\n",
        "  answer = input()\n",
        "\n",
        "  dictionary[category][point] = {question: answer}\n",
        "  print('Вопрос успешно добавлен.')\n",
        "\n",
        "\n",
        "#Считает количество вопросов в викторине\n",
        "def number_questions():\n",
        "  c = 0\n",
        "  for k in dictionary.keys():\n",
        "    for v in dictionary.values():\n",
        "      if '+' in dictionary.values():\n",
        "        c-=1\n",
        "      c+=1\n",
        "  return c\n",
        "\n",
        "\n",
        "#Задаёт рандомный вопрос, запрашивает ответ, отдельно подсчитывает баллы, говорит правильный ответ\n",
        "def random_question():\n",
        "  key = random.choice(list(dictionary))\n",
        "  key2 = random.choice(list(dictionary[key]))\n",
        "  key3 = random.choice(list(dictionary[key][key2]))\n",
        "  print('Вопрос из категории:', key)\n",
        "  print(key3)\n",
        "  answer = input()\n",
        "  if answer == dictionary[key][key2][key3]:\n",
        "    print('Верно!')\n",
        "    return key2\n",
        "\n",
        "  else:\n",
        "    print('Это не так. Правильный ответ:', dictionary[key][key2][key3])\n",
        "    return 0\n",
        "\n",
        "print('С чего начнём?\\n \\\n",
        "Играть в викторину\\n \\\n",
        "Добавить вопросы\\n \\\n",
        "Рандомный вопрос')\n",
        "action = input()\n",
        "while action != 'Закончить':\n",
        "  if action == 'Играть в викторину':\n",
        "    k = 0\n",
        "    c = 0\n",
        "    while c < number_questions():\n",
        "      print('Выберите категорию:')\n",
        "      for k in dictionary.keys():\n",
        "        print(k)\n",
        "      objects = input()\n",
        "\n",
        "      print('На сколько баллов?')\n",
        "      for k in dictionary[objects].keys():\n",
        "        print(k)\n",
        "      point = int(input())\n",
        "\n",
        "      if '-' in dictionary2[objects][point]:\n",
        "        c -= 1\n",
        "\n",
        "      k += question_selection(objects, point)\n",
        "      c += 1\n",
        "\n",
        "    print('Вы прошли игру! Ваш счёт:', k)\n",
        "    dictionary2 = dictionary3\n",
        "\n",
        "  elif action == 'Рандомный вопрос':\n",
        "    k = 0\n",
        "    random_action = 'Ещё рандом вопрос'\n",
        "    while random_action != 'Закончить рандом':\n",
        "      k += random_question()\n",
        "      print('Ваш текущий счёт в рандом викторине:', k)\n",
        "      print('Теперь?\\n \\\n",
        "      Ещё рандом вопрос\\n \\\n",
        "      Закончить рандом')\n",
        "      random_action = input()\n",
        "\n",
        "  else:\n",
        "    while action != 'Закончить редактирование':\n",
        "      print('Добавить в уже существующую категорию или создать новую?\\n \\\n",
        "      Существующая категория\\n \\\n",
        "      Создать новую')\n",
        "      editing_category = input()\n",
        "      if editing_category == 'Создать новую':\n",
        "        print('Какую категорию добавим?')\n",
        "        category = input()\n",
        "        print('Для какого количества баллов добавляем вопрос?')\n",
        "        point = int(input())\n",
        "        add_category(category, point)\n",
        "\n",
        "      else:\n",
        "        print('В какую добавим?')\n",
        "        for k in dictionary.keys():\n",
        "          print(k)\n",
        "        category = input()\n",
        "        print('Для какого количества баллов добавляем вопрос?')\n",
        "        point = int(input())\n",
        "        dictionary[category].update({point:'+'})\n",
        "        dictionary2[category].update({point:'+'})\n",
        "        dictionary3[category].update({point:'+'})\n",
        "\n",
        "      if '+' in dictionary[category][point]:\n",
        "        add_question(category, point)\n",
        "\n",
        "      else:\n",
        "        print('Вопрос уже существует, уверены, что хотите его заменить?\\n \\\n",
        "        Да\\n \\\n",
        "        Нет')\n",
        "        replacing_question = input()\n",
        "        if replacing_question == 'Да':\n",
        "          add_question(category, point)\n",
        "      print('Теперь?\\n \\\n",
        "      Закончить редактирование\\n \\\n",
        "      Продолжить')\n",
        "      action = input()\n",
        "  print('Теперь?\\n \\\n",
        "  Закончить\\n \\\n",
        "  Добавить вопросы\\n \\\n",
        "  Играть в викторину')\n",
        "  action = input()\n"
      ],
      "metadata": {
        "id": "DhxyYwHwh2V4"
      },
      "execution_count": null,
      "outputs": []
    }
  ]
}