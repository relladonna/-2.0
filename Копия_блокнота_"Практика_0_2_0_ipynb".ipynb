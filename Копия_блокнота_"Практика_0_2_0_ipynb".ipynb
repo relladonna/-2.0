{
  "nbformat": 4,
  "nbformat_minor": 0,
  "metadata": {
    "colab": {
      "provenance": [],
      "authorship_tag": "ABX9TyNXkEBcAFT6u614zNVdXUG6",
      "include_colab_link": true
    },
    "kernelspec": {
      "name": "python3",
      "display_name": "Python 3"
    },
    "language_info": {
      "name": "python"
    }
  },
  "cells": [
    {
      "cell_type": "markdown",
      "metadata": {
        "id": "view-in-github",
        "colab_type": "text"
      },
      "source": [
        "<a href=\"https://colab.research.google.com/github/relladonna/-2.0/blob/main/%D0%9A%D0%BE%D0%BF%D0%B8%D1%8F_%D0%B1%D0%BB%D0%BE%D0%BA%D0%BD%D0%BE%D1%82%D0%B0_%22%D0%9F%D1%80%D0%B0%D0%BA%D1%82%D0%B8%D0%BA%D0%B0_0_2_0_ipynb%22.ipynb\" target=\"_parent\"><img src=\"https://colab.research.google.com/assets/colab-badge.svg\" alt=\"Open In Colab\"/></a>"
      ]
    },
    {
      "cell_type": "code",
      "execution_count": null,
      "metadata": {
        "id": "ETkNVnaN8JPX"
      },
      "outputs": [],
      "source": [
        "Мосина Вероника Григорьевна"
      ]
    },
    {
      "cell_type": "code",
      "source": [
        "print('Привет, мир!')"
      ],
      "metadata": {
        "colab": {
          "base_uri": "https://localhost:8080/"
        },
        "id": "yGbhCG3Z8dM3",
        "outputId": "83215c03-2188-40ab-d05f-2a15a05d06e5"
      },
      "execution_count": null,
      "outputs": [
        {
          "output_type": "stream",
          "name": "stdout",
          "text": [
            "Привет, мир!\n"
          ]
        }
      ]
    },
    {
      "cell_type": "code",
      "source": [
        "print('Назовите ваше имя')\n",
        "name=input()\n",
        "print('Привет,', a)"
      ],
      "metadata": {
        "colab": {
          "base_uri": "https://localhost:8080/"
        },
        "id": "3BfJIDgX8s5f",
        "outputId": "651c471c-534a-469b-fbb8-4a1c2bfbf257"
      },
      "execution_count": null,
      "outputs": [
        {
          "output_type": "stream",
          "name": "stdout",
          "text": [
            "Назовите ваше имя\n",
            "Вероника\n",
            "Привет, Вероника\n"
          ]
        }
      ]
    },
    {
      "cell_type": "code",
      "source": [
        "print('Введите число:')\n",
        "a=int(input())\n",
        "if a%2==0:\n",
        "  print('Ваше число четное!')\n",
        "else:\n",
        "  print('Ваше число нечетное!')"
      ],
      "metadata": {
        "colab": {
          "base_uri": "https://localhost:8080/"
        },
        "id": "wG0vTzEg9QEv",
        "outputId": "be7e0a82-5630-427a-c7c5-249ba08a4cf8"
      },
      "execution_count": null,
      "outputs": [
        {
          "output_type": "stream",
          "name": "stdout",
          "text": [
            "Введите число:\n",
            "7\n",
            "Ваше число нечетное!\n"
          ]
        }
      ]
    },
    {
      "cell_type": "code",
      "source": [
        "print('Введите длину прямоугольника:')\n",
        "lengh=int(input())\n",
        "print('Введите ширину прямоугольника:')\n",
        "width=int(input())\n",
        "print('Площадь прямоугольника:', lengh*width)"
      ],
      "metadata": {
        "colab": {
          "base_uri": "https://localhost:8080/"
        },
        "id": "NfNkvHpd9sqQ",
        "outputId": "20f22924-c435-41b1-c7bc-1db16c431c65"
      },
      "execution_count": null,
      "outputs": [
        {
          "output_type": "stream",
          "name": "stdout",
          "text": [
            "Введите длину прямоугольника:\n",
            "4\n",
            "Введите ширину прямоугольника:\n",
            "6\n",
            "Площадь прямоугольника: 24\n"
          ]
        }
      ]
    },
    {
      "cell_type": "code",
      "source": [
        "print('Введите числа через пробел.')\n",
        "numbers=input()\n",
        "n=numbers.split()\n",
        "s=0\n",
        "for i in range(len(n)):\n",
        "  s+=int(n[i])\n",
        "print(s/len(n))"
      ],
      "metadata": {
        "colab": {
          "base_uri": "https://localhost:8080/"
        },
        "id": "ZZtDJ_Zd-nW-",
        "outputId": "0c022fbf-bcb2-4bcc-e3f6-e1519e3f38a4"
      },
      "execution_count": null,
      "outputs": [
        {
          "output_type": "stream",
          "name": "stdout",
          "text": [
            "Введите числа через пробел.\n",
            "1 2 3\n",
            "2.0\n"
          ]
        }
      ]
    },
    {
      "cell_type": "code",
      "source": [
        "print('Какой год?')\n",
        "year=int(input())\n",
        "if year%4==0:\n",
        "  print('Год високосный')\n",
        "else:\n",
        "  print('Год невисокосный')"
      ],
      "metadata": {
        "colab": {
          "base_uri": "https://localhost:8080/"
        },
        "id": "0je5AH9gB0N3",
        "outputId": "6fdc2e50-0c99-42b5-a13d-e27f6bbd9fdd"
      },
      "execution_count": null,
      "outputs": [
        {
          "output_type": "stream",
          "name": "stdout",
          "text": [
            "Какой год?\n",
            "2200\n",
            "Год високосный\n"
          ]
        }
      ]
    },
    {
      "cell_type": "code",
      "source": [
        "print('Какая операция? (+, -, *, /)')\n",
        "a=input()\n",
        "print('Какое первое число?')\n",
        "n1=int(input())\n",
        "print('Какое второе число?')\n",
        "n2=int(input())\n",
        "if a=='+':\n",
        "  print('Результат:', n1+n2)\n",
        "elif a=='-':\n",
        "  print('Результат:', n1-n2)\n",
        "elif a=='*':\n",
        "  print('Результат:', n1*n2)\n",
        "elif a=='/':\n",
        "  print('Результат:', n1/n2)"
      ],
      "metadata": {
        "colab": {
          "base_uri": "https://localhost:8080/"
        },
        "id": "kq8twoUmDbOH",
        "outputId": "83f2cc9a-7e34-44fa-e93b-1d02ba5af596"
      },
      "execution_count": null,
      "outputs": [
        {
          "output_type": "stream",
          "name": "stdout",
          "text": [
            "Какая операция? (+, -, *, /)\n",
            "+\n",
            "Какое первое число?\n",
            "7\n",
            "Какое второе число?\n",
            "8\n",
            "Результат: 15\n"
          ]
        }
      ]
    },
    {
      "cell_type": "code",
      "source": [
        "print('Введите начальные координаты цифрами через пробел. Сначала идёт координата х, потом у.')\n",
        "nk=input()\n",
        "nk=nk.split()\n",
        "if (int(nk[0])>8 or int(nk[0])<1) or (int(nk[1])>8 or int(nk[1])<1):\n",
        "  print('!Неверно заданные координаты!')\n",
        "print('Введите конечные координаты таким же образом.')\n",
        "kk=input()\n",
        "kk=kk.split()\n",
        "if (int(kk[0])>8 or int(kk[0])<1) or (int(kk[1])>8 or int(kk[1])<1):\n",
        "  print('!Неверно заданные координаты!')\n",
        "print('Какая фигура?')\n",
        "f=input()\n",
        "if f=='пешка':\n",
        "  if kk[0]==nk[0] and int(nk[1])<=int(kk[1])<int(nk[1])+2:\n",
        "    print('Может сходить.')\n",
        "  else:\n",
        "    print('Не может сходить.')\n",
        "elif f=='ладья':\n",
        "  if kk[0]==nk[0] or kk[1]==nk[1]:\n",
        "    print('Может сходить.')\n",
        "  else:\n",
        "    print('Не может сходить.')\n",
        "elif f=='слон':\n",
        "  if abs(int(kk[0])-int(nk[0]))==abs(int(kk[1])-int(nk[1])):\n",
        "    print('Может сходить.')\n",
        "  else:\n",
        "    print('Не может сходить.')\n",
        "elif f=='конь':\n",
        "  if abs(int(kk[0])-int(nk[0]))==abs(int(kk[1])-int(nk[1]))+1 or abs(int(kk[0])-int(nk[0]))+1==abs(int(kk[1])-int(nk[1])):\n",
        "    print('Может сходить.')\n",
        "  else:\n",
        "    print('Не может сходить.')\n",
        "elif f=='король':\n",
        "  if abs(int(kk[0])-int(nk[0]))<=1 and abs(int(kk[1])-int(nk[1]))<=1:\n",
        "    print('Может сходить.')\n",
        "  else:\n",
        "    print('Не может сходить.')\n",
        "elif f=='ферзь':\n",
        "  if (kk[0]==nk[0] or kk[1]==nk[1]) or (abs(int(kk[0])-int(nk[0]))==abs(int(kk[1])-int(nk[1]))):\n",
        "    print('Может сходить.')\n",
        "  else:\n",
        "    print('Не может сходить.')"
      ],
      "metadata": {
        "id": "_porzkLQGOqv",
        "colab": {
          "base_uri": "https://localhost:8080/",
          "height": 373
        },
        "outputId": "d29718fb-d210-44dc-ab7f-fcbe41189949"
      },
      "execution_count": null,
      "outputs": [
        {
          "output_type": "stream",
          "name": "stdout",
          "text": [
            "Введите начальные координаты цифрами через пробел. Сначала идёт координата х, потом у.\n"
          ]
        },
        {
          "output_type": "error",
          "ename": "KeyboardInterrupt",
          "evalue": "Interrupted by user",
          "traceback": [
            "\u001b[0;31m---------------------------------------------------------------------------\u001b[0m",
            "\u001b[0;31mKeyboardInterrupt\u001b[0m                         Traceback (most recent call last)",
            "\u001b[0;32m<ipython-input-10-3c6910948500>\u001b[0m in \u001b[0;36m<cell line: 2>\u001b[0;34m()\u001b[0m\n\u001b[1;32m      1\u001b[0m \u001b[0mprint\u001b[0m\u001b[0;34m(\u001b[0m\u001b[0;34m'Введите начальные координаты цифрами через пробел. Сначала идёт координата х, потом у.'\u001b[0m\u001b[0;34m)\u001b[0m\u001b[0;34m\u001b[0m\u001b[0;34m\u001b[0m\u001b[0m\n\u001b[0;32m----> 2\u001b[0;31m \u001b[0mnk\u001b[0m\u001b[0;34m=\u001b[0m\u001b[0minput\u001b[0m\u001b[0;34m(\u001b[0m\u001b[0;34m)\u001b[0m\u001b[0;34m\u001b[0m\u001b[0;34m\u001b[0m\u001b[0m\n\u001b[0m\u001b[1;32m      3\u001b[0m \u001b[0mnk\u001b[0m\u001b[0;34m=\u001b[0m\u001b[0mnk\u001b[0m\u001b[0;34m.\u001b[0m\u001b[0msplit\u001b[0m\u001b[0;34m(\u001b[0m\u001b[0;34m)\u001b[0m\u001b[0;34m\u001b[0m\u001b[0;34m\u001b[0m\u001b[0m\n\u001b[1;32m      4\u001b[0m \u001b[0;32mif\u001b[0m \u001b[0;34m(\u001b[0m\u001b[0mint\u001b[0m\u001b[0;34m(\u001b[0m\u001b[0mnk\u001b[0m\u001b[0;34m[\u001b[0m\u001b[0;36m0\u001b[0m\u001b[0;34m]\u001b[0m\u001b[0;34m)\u001b[0m\u001b[0;34m>\u001b[0m\u001b[0;36m8\u001b[0m \u001b[0;32mor\u001b[0m \u001b[0mint\u001b[0m\u001b[0;34m(\u001b[0m\u001b[0mnk\u001b[0m\u001b[0;34m[\u001b[0m\u001b[0;36m0\u001b[0m\u001b[0;34m]\u001b[0m\u001b[0;34m)\u001b[0m\u001b[0;34m<\u001b[0m\u001b[0;36m1\u001b[0m\u001b[0;34m)\u001b[0m \u001b[0;32mor\u001b[0m \u001b[0;34m(\u001b[0m\u001b[0mint\u001b[0m\u001b[0;34m(\u001b[0m\u001b[0mnk\u001b[0m\u001b[0;34m[\u001b[0m\u001b[0;36m1\u001b[0m\u001b[0;34m]\u001b[0m\u001b[0;34m)\u001b[0m\u001b[0;34m>\u001b[0m\u001b[0;36m8\u001b[0m \u001b[0;32mor\u001b[0m \u001b[0mint\u001b[0m\u001b[0;34m(\u001b[0m\u001b[0mnk\u001b[0m\u001b[0;34m[\u001b[0m\u001b[0;36m1\u001b[0m\u001b[0;34m]\u001b[0m\u001b[0;34m)\u001b[0m\u001b[0;34m<\u001b[0m\u001b[0;36m1\u001b[0m\u001b[0;34m)\u001b[0m\u001b[0;34m:\u001b[0m\u001b[0;34m\u001b[0m\u001b[0;34m\u001b[0m\u001b[0m\n\u001b[1;32m      5\u001b[0m   \u001b[0mprint\u001b[0m\u001b[0;34m(\u001b[0m\u001b[0;34m'!Неверно заданные координаты!'\u001b[0m\u001b[0;34m)\u001b[0m\u001b[0;34m\u001b[0m\u001b[0;34m\u001b[0m\u001b[0m\n",
            "\u001b[0;32m/usr/local/lib/python3.10/dist-packages/ipykernel/kernelbase.py\u001b[0m in \u001b[0;36mraw_input\u001b[0;34m(self, prompt)\u001b[0m\n\u001b[1;32m    849\u001b[0m                 \u001b[0;34m\"raw_input was called, but this frontend does not support input requests.\"\u001b[0m\u001b[0;34m\u001b[0m\u001b[0;34m\u001b[0m\u001b[0m\n\u001b[1;32m    850\u001b[0m             )\n\u001b[0;32m--> 851\u001b[0;31m         return self._input_request(str(prompt),\n\u001b[0m\u001b[1;32m    852\u001b[0m             \u001b[0mself\u001b[0m\u001b[0;34m.\u001b[0m\u001b[0m_parent_ident\u001b[0m\u001b[0;34m,\u001b[0m\u001b[0;34m\u001b[0m\u001b[0;34m\u001b[0m\u001b[0m\n\u001b[1;32m    853\u001b[0m             \u001b[0mself\u001b[0m\u001b[0;34m.\u001b[0m\u001b[0m_parent_header\u001b[0m\u001b[0;34m,\u001b[0m\u001b[0;34m\u001b[0m\u001b[0;34m\u001b[0m\u001b[0m\n",
            "\u001b[0;32m/usr/local/lib/python3.10/dist-packages/ipykernel/kernelbase.py\u001b[0m in \u001b[0;36m_input_request\u001b[0;34m(self, prompt, ident, parent, password)\u001b[0m\n\u001b[1;32m    893\u001b[0m             \u001b[0;32mexcept\u001b[0m \u001b[0mKeyboardInterrupt\u001b[0m\u001b[0;34m:\u001b[0m\u001b[0;34m\u001b[0m\u001b[0;34m\u001b[0m\u001b[0m\n\u001b[1;32m    894\u001b[0m                 \u001b[0;31m# re-raise KeyboardInterrupt, to truncate traceback\u001b[0m\u001b[0;34m\u001b[0m\u001b[0;34m\u001b[0m\u001b[0m\n\u001b[0;32m--> 895\u001b[0;31m                 \u001b[0;32mraise\u001b[0m \u001b[0mKeyboardInterrupt\u001b[0m\u001b[0;34m(\u001b[0m\u001b[0;34m\"Interrupted by user\"\u001b[0m\u001b[0;34m)\u001b[0m \u001b[0;32mfrom\u001b[0m \u001b[0;32mNone\u001b[0m\u001b[0;34m\u001b[0m\u001b[0;34m\u001b[0m\u001b[0m\n\u001b[0m\u001b[1;32m    896\u001b[0m             \u001b[0;32mexcept\u001b[0m \u001b[0mException\u001b[0m \u001b[0;32mas\u001b[0m \u001b[0me\u001b[0m\u001b[0;34m:\u001b[0m\u001b[0;34m\u001b[0m\u001b[0;34m\u001b[0m\u001b[0m\n\u001b[1;32m    897\u001b[0m                 \u001b[0mself\u001b[0m\u001b[0;34m.\u001b[0m\u001b[0mlog\u001b[0m\u001b[0;34m.\u001b[0m\u001b[0mwarning\u001b[0m\u001b[0;34m(\u001b[0m\u001b[0;34m\"Invalid Message:\"\u001b[0m\u001b[0;34m,\u001b[0m \u001b[0mexc_info\u001b[0m\u001b[0;34m=\u001b[0m\u001b[0;32mTrue\u001b[0m\u001b[0;34m)\u001b[0m\u001b[0;34m\u001b[0m\u001b[0;34m\u001b[0m\u001b[0m\n",
            "\u001b[0;31mKeyboardInterrupt\u001b[0m: Interrupted by user"
          ]
        }
      ]
    },
    {
      "cell_type": "code",
      "source": [
        "print('Сколько чисел в ряду?')\n",
        "kch=int(input())\n",
        "s1=[]\n",
        "for n in range(kch):\n",
        "  s1.append(int(input()))\n",
        "s2=[]\n",
        "for i in range(0, kch+1):\n",
        "  print(s1[i])\n",
        "  while s1[i]>0:\n",
        "    s2.append(s1[i]%10)\n",
        "    s1[i]=s1[i]//10\n",
        "print(s2)"
      ],
      "metadata": {
        "colab": {
          "base_uri": "https://localhost:8080/",
          "height": 332
        },
        "id": "zZ57noMSV8Wt",
        "outputId": "cc82f1f9-319e-4d0b-dbfe-3e5dc5876773"
      },
      "execution_count": null,
      "outputs": [
        {
          "output_type": "stream",
          "name": "stdout",
          "text": [
            "Сколько чисел в ряду?\n",
            "2\n",
            "45\n",
            "56\n",
            "[45, 56]\n",
            "45\n",
            "56\n"
          ]
        },
        {
          "output_type": "error",
          "ename": "IndexError",
          "evalue": "list index out of range",
          "traceback": [
            "\u001b[0;31m---------------------------------------------------------------------------\u001b[0m",
            "\u001b[0;31mIndexError\u001b[0m                                Traceback (most recent call last)",
            "\u001b[0;32m<ipython-input-31-2e3d19cb816d>\u001b[0m in \u001b[0;36m<cell line: 8>\u001b[0;34m()\u001b[0m\n\u001b[1;32m      7\u001b[0m \u001b[0mprint\u001b[0m\u001b[0;34m(\u001b[0m\u001b[0ms1\u001b[0m\u001b[0;34m)\u001b[0m\u001b[0;34m\u001b[0m\u001b[0;34m\u001b[0m\u001b[0m\n\u001b[1;32m      8\u001b[0m \u001b[0;32mfor\u001b[0m \u001b[0mi\u001b[0m \u001b[0;32min\u001b[0m \u001b[0mrange\u001b[0m\u001b[0;34m(\u001b[0m\u001b[0;36m0\u001b[0m\u001b[0;34m,\u001b[0m \u001b[0mkch\u001b[0m\u001b[0;34m+\u001b[0m\u001b[0;36m1\u001b[0m\u001b[0;34m)\u001b[0m\u001b[0;34m:\u001b[0m\u001b[0;34m\u001b[0m\u001b[0;34m\u001b[0m\u001b[0m\n\u001b[0;32m----> 9\u001b[0;31m   \u001b[0mprint\u001b[0m\u001b[0;34m(\u001b[0m\u001b[0ms1\u001b[0m\u001b[0;34m[\u001b[0m\u001b[0mi\u001b[0m\u001b[0;34m]\u001b[0m\u001b[0;34m)\u001b[0m\u001b[0;34m\u001b[0m\u001b[0;34m\u001b[0m\u001b[0m\n\u001b[0m\u001b[1;32m     10\u001b[0m   \u001b[0;32mwhile\u001b[0m \u001b[0ms1\u001b[0m\u001b[0;34m[\u001b[0m\u001b[0mi\u001b[0m\u001b[0;34m]\u001b[0m\u001b[0;34m>\u001b[0m\u001b[0;36m0\u001b[0m\u001b[0;34m:\u001b[0m\u001b[0;34m\u001b[0m\u001b[0;34m\u001b[0m\u001b[0m\n\u001b[1;32m     11\u001b[0m     \u001b[0ms2\u001b[0m\u001b[0;34m.\u001b[0m\u001b[0mappend\u001b[0m\u001b[0;34m(\u001b[0m\u001b[0ms1\u001b[0m\u001b[0;34m[\u001b[0m\u001b[0mi\u001b[0m\u001b[0;34m]\u001b[0m\u001b[0;34m%\u001b[0m\u001b[0;36m10\u001b[0m\u001b[0;34m)\u001b[0m\u001b[0;34m\u001b[0m\u001b[0;34m\u001b[0m\u001b[0m\n",
            "\u001b[0;31mIndexError\u001b[0m: list index out of range"
          ]
        }
      ]
    }
  ]
}